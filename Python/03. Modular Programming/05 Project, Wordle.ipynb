{
 "cells": [
  {
   "cell_type": "markdown",
   "id": "c94cec0c-ba3a-4a43-b07b-c86480e40d43",
   "metadata": {},
   "source": [
    "<img src=\"../../images/banners/python-modular.png\" width=\"600\"/>"
   ]
  },
  {
   "cell_type": "markdown",
   "id": "ef1a3f94-fe6e-4cf3-b303-e92dad2ed0e9",
   "metadata": {},
   "source": [
    "# <img src=\"../../images/logos/python.png\" width=\"23\"/> Project: Wordle\n"
   ]
  },
  {
   "cell_type": "markdown",
   "id": "9a47eb01-49cd-44b0-bf85-693892789e00",
   "metadata": {},
   "source": [
    "## <img src=\"../../images/logos/toc.png\" width=\"20\"/> Table of Contents \n",
    "* [Rules](#)\n",
    "* [TODO](#)\n",
    "* [Tips](#)\n",
    "* [Test](#)\n",
    "\n",
    "---"
   ]
  },
  {
   "cell_type": "markdown",
   "id": "f81a9d8a-2805-483a-a82c-6fa960a81dfd",
   "metadata": {},
   "source": [
    "Wordle is a word game, which recently got very popular and was added to NYT Games website. It is developed by Josh Wardle. You can find the original game [here](https://www.nytimes.com/games/wordle/index.html). However, you can only play it once a day."
   ]
  },
  {
   "cell_type": "markdown",
   "id": "3efa4ed5-7f66-426f-8b18-12fe3fc377ac",
   "metadata": {},
   "source": [
    "Luckily, in this version of Wordle that you are going to be programming, you will be able to play as many times as you want in a day. Moreover, you will be allowed to see which words could potentially be the right answer. What is more, you will be using a bigger data set than the actual Wordle, which basically involves all the 5 letter words in a Scrabble dictionary."
   ]
  },
  {
   "cell_type": "markdown",
   "id": "17ef8f15-5e2b-41b5-91c7-852da8fe48ac",
   "metadata": {},
   "source": [
    "## Rules"
   ]
  },
  {
   "cell_type": "markdown",
   "id": "eafc79dd-f544-460f-b151-188362f520b5",
   "metadata": {},
   "source": [
    "- The player enters a random 5-letter word.\n",
    "- If the random word is the word to be guessed, the game is over. The player receives a congratulations message.\n",
    "- If the random word isn’t the word to be guessed, the player is informed about whether the right letter is at the right place and if some of the letters are in the word but wrongly placed.\n",
    "- Based on this, the player has 6 tries to guess the word.\n",
    "- At the end of the 6 attempts, if the player fails to guess the right word, the word is revealed."
   ]
  },
  {
   "cell_type": "markdown",
   "id": "24b588c7-6adf-43a8-a8a8-dd338cd47369",
   "metadata": {},
   "source": [
    "## TODO"
   ]
  },
  {
   "cell_type": "markdown",
   "id": "951c7bc1-5eab-4293-8a5a-141c219461f7",
   "metadata": {},
   "source": [
    "1. Read the possible words from the txt file and save them on a list.\n",
    "2. Make sure that the user can enter input exactly 6 times.\n",
    "3. Make sure that regardless of the case, the input is processed correctly.\n",
    "4. Make sure that you use appropriate data structures for valid characters, invalid positions, and invalid characters.\n",
    "5. Use the random module to make sure the word to be guessed is randomly chosen.\n",
    "6. Cluster the potential words accordingly and reveal it to the player each round.\n",
    "7. In case the player first guesses the right letter at the wrong place, and later on gets the place right, remove that from your valid characters invalid positions."
   ]
  },
  {
   "cell_type": "markdown",
   "id": "d36fae6c-a086-49f5-accf-6843a5008c1c",
   "metadata": {},
   "source": [
    "## Tips"
   ]
  },
  {
   "cell_type": "markdown",
   "id": "9eb0d001-1daa-42d6-9a9f-aa8e1e767cb4",
   "metadata": {},
   "source": [
    "- At the very beginning each of the words have a chance of being the word to be guessed.\n",
    "- A word is invalid, when there are invalid letters in it or when there is a valid letter at the wrong place.\n",
    "- A word is possible, when it isn’t invalid and contains the correctly guessed letter at the right place.\n",
    "- You can initiate a random number by:\n",
    "\n",
    "```python\n",
    "from random import randint, seed\n",
    "seed()\n",
    "```"
   ]
  },
  {
   "cell_type": "markdown",
   "id": "7c314af9-ed0d-4a64-8fab-95707ea8723b",
   "metadata": {},
   "source": [
    "## Test"
   ]
  },
  {
   "cell_type": "markdown",
   "id": "e3342c88-9f42-441b-900a-c133c790353a",
   "metadata": {},
   "source": [
    "If the word to be guessed is _BUIST_ and if I guess first _MILKY_, my cluster of potential words should consist of 1127 words. If I then go ahead and guess _POUND_, my cluster of potential words should consist of only 52 words. If I go ahead and guess _RATES_, my cluster should consist of only 3 words and they should be `['BUIST', 'BUSTI', 'QUIST']`."
   ]
  }
 ],
 "metadata": {
  "kernelspec": {
   "display_name": "Python 3",
   "language": "python",
   "name": "python3"
  },
  "language_info": {
   "codemirror_mode": {
    "name": "ipython",
    "version": 3
   },
   "file_extension": ".py",
   "mimetype": "text/x-python",
   "name": "python",
   "nbconvert_exporter": "python",
   "pygments_lexer": "ipython3",
   "version": "3.8.11"
  }
 },
 "nbformat": 4,
 "nbformat_minor": 5
}
