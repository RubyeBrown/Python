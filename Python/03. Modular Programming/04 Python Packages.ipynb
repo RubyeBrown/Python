{
 "cells": [
  {
   "cell_type": "markdown",
   "id": "0309da50",
   "metadata": {},
   "source": [
    "<img src=\"../../images/banners/python-modular.png\" width=\"600\"/>"
   ]
  },
  {
   "cell_type": "markdown",
   "id": "bf25f23e-92e2-423d-9be0-f1656ad1c7b2",
   "metadata": {},
   "source": [
    "# <img src=\"../../images/logos/python.png\" width=\"23\"/> Python Packages\n"
   ]
  },
  {
   "cell_type": "markdown",
   "id": "a633459d",
   "metadata": {},
   "source": [
    "## <img src=\"../../images/logos/toc.png\" width=\"20\"/> Table of Contents \n",
    "* [Package Initialization](#package_initialization)\n",
    "* [Importing `*` From a Package](#importing_`*`_from_a_package)\n",
    "* [Subpackages](#subpackages)\n",
    "* [Conclusion](#conclusion)\n",
    "\n",
    "---"
   ]
  },
  {
   "cell_type": "markdown",
   "id": "4a328a9d",
   "metadata": {},
   "source": [
    "Suppose you have developed a very large application that includes many modules. As the number of modules grows, it becomes difficult to keep track of them all if they are dumped into one location. This is particularly so if they have similar names or functionality. You might wish for a means of grouping and organizing them."
   ]
  },
  {
   "cell_type": "markdown",
   "id": "565c8c9e",
   "metadata": {},
   "source": [
    "**Packages** allow for a hierarchical structuring of the module namespace using **dot notation**. In the same way that **modules** help avoid collisions between global variable names, **packages** help avoid collisions between module names."
   ]
  },
  {
   "cell_type": "markdown",
   "id": "eac355a7",
   "metadata": {},
   "source": [
    "Creating a **package** is quite straightforward, since it makes use of the operating system’s inherent hierarchical file structure. Consider the following arrangement:"
   ]
  },
  {
   "cell_type": "markdown",
   "id": "81a37f8a",
   "metadata": {},
   "source": [
    "<img src=\"images/python-modules-and-packages-–-an-introduction/pkg1.9af1c7aea48f.png\" width=\"600px\">"
   ]
  },
  {
   "cell_type": "markdown",
   "id": "1403bd8b",
   "metadata": {},
   "source": [
    "Here, there is a directory named `pkg` that contains two modules, `mod1.py` and `mod2.py`. The contents of the modules are:"
   ]
  },
  {
   "cell_type": "markdown",
   "id": "7ce5d120",
   "metadata": {},
   "source": [
    "***mod1.py***"
   ]
  },
  {
   "cell_type": "code",
   "execution_count": null,
   "id": "701b2ab0",
   "metadata": {},
   "outputs": [],
   "source": [
    "def foo():\n",
    "    print('[mod1] foo()')\n",
    "\n",
    "class Foo:\n",
    "    pass"
   ]
  },
  {
   "cell_type": "markdown",
   "id": "5697df24",
   "metadata": {},
   "source": [
    "***mod2.py***"
   ]
  },
  {
   "cell_type": "code",
   "execution_count": null,
   "id": "a6218c9e",
   "metadata": {},
   "outputs": [],
   "source": [
    "def bar():\n",
    "    print('[mod2] bar()')\n",
    "\n",
    "class Bar:\n",
    "    pass"
   ]
  },
  {
   "cell_type": "markdown",
   "id": "ac22dd3e",
   "metadata": {},
   "source": [
    "Given this structure, if the `pkg` directory resides in a location where it can be found (in one of the directories contained in `sys.path`), you can refer to the two **modules** with **dot notation** (`pkg.mod1`, `pkg.mod2`) and import them with the syntax you are already familiar with:"
   ]
  },
  {
   "cell_type": "code",
   "execution_count": null,
   "id": "af3d7ce6",
   "metadata": {},
   "outputs": [],
   "source": [
    "import <module_name>[, <module_name> ...]"
   ]
  },
  {
   "cell_type": "code",
   "execution_count": null,
   "id": "0392d469",
   "metadata": {},
   "outputs": [],
   "source": [
    ">>>>>> import pkg.mod1, pkg.mod2\n",
    ">>> pkg.mod1.foo()\n",
    "[mod1] foo()\n",
    ">>> x = pkg.mod2.Bar()\n",
    ">>> x\n",
    "<pkg.mod2.Bar object at 0x033F7290>"
   ]
  },
  {
   "cell_type": "code",
   "execution_count": null,
   "id": "c2dc0e2b",
   "metadata": {},
   "outputs": [],
   "source": [
    "from <module_name> import <name(s)>"
   ]
  },
  {
   "cell_type": "code",
   "execution_count": null,
   "id": "1ff4e929",
   "metadata": {},
   "outputs": [],
   "source": [
    ">>>>>> from pkg.mod1 import foo\n",
    ">>> foo()\n",
    "[mod1] foo()"
   ]
  },
  {
   "cell_type": "code",
   "execution_count": null,
   "id": "f928cc26",
   "metadata": {},
   "outputs": [],
   "source": [
    "from <module_name> import <name> as <alt_name>"
   ]
  },
  {
   "cell_type": "code",
   "execution_count": null,
   "id": "c27718d8",
   "metadata": {},
   "outputs": [],
   "source": [
    ">>>>>> from pkg.mod2 import Bar as Qux\n",
    ">>> x = Qux()\n",
    ">>> x\n",
    "<pkg.mod2.Bar object at 0x036DFFD0>"
   ]
  },
  {
   "cell_type": "markdown",
   "id": "26f4ca50",
   "metadata": {},
   "source": [
    "You can import modules with these statements as well:"
   ]
  },
  {
   "cell_type": "code",
   "execution_count": null,
   "id": "68865551",
   "metadata": {},
   "outputs": [],
   "source": [
    "from <package_name> import <modules_name>[, <module_name> ...]\n",
    "from <package_name> import <module_name> as <alt_name>"
   ]
  },
  {
   "cell_type": "code",
   "execution_count": null,
   "id": "611419a7",
   "metadata": {},
   "outputs": [],
   "source": [
    ">>>>>> from pkg import mod1\n",
    ">>> mod1.foo()\n",
    "[mod1] foo()\n",
    "\n",
    ">>> from pkg import mod2 as quux\n",
    ">>> quux.bar()\n",
    "[mod2] bar()"
   ]
  },
  {
   "cell_type": "markdown",
   "id": "75c39932",
   "metadata": {},
   "source": [
    "You can technically import the package as well:"
   ]
  },
  {
   "cell_type": "code",
   "execution_count": null,
   "id": "e86248c8",
   "metadata": {},
   "outputs": [],
   "source": [
    ">>>>>> import pkg\n",
    ">>> pkg\n",
    "<module 'pkg' (namespace)>"
   ]
  },
  {
   "cell_type": "markdown",
   "id": "cf7fa20e",
   "metadata": {},
   "source": [
    "But this is of little avail. Though this is, strictly speaking, a syntactically correct Python statement, it doesn’t do much of anything useful. In particular, it *does not place* any of the modules in `pkg` into the local namespace:"
   ]
  },
  {
   "cell_type": "code",
   "execution_count": null,
   "id": "f398bd6d",
   "metadata": {},
   "outputs": [],
   "source": [
    ">>>>>> pkg.mod1\n",
    "Traceback (most recent call last):\n",
    "  File \"<pyshell#34>\", line 1, in <module>\n",
    "    pkg.mod1\n",
    "AttributeError: module 'pkg' has no attribute 'mod1'\n",
    ">>> pkg.mod1.foo()\n",
    "Traceback (most recent call last):\n",
    "  File \"<pyshell#35>\", line 1, in <module>\n",
    "    pkg.mod1.foo()\n",
    "AttributeError: module 'pkg' has no attribute 'mod1'\n",
    ">>> pkg.mod2.Bar()\n",
    "Traceback (most recent call last):\n",
    "  File \"<pyshell#36>\", line 1, in <module>\n",
    "    pkg.mod2.Bar()\n",
    "AttributeError: module 'pkg' has no attribute 'mod2'"
   ]
  },
  {
   "cell_type": "markdown",
   "id": "02b4c437",
   "metadata": {},
   "source": [
    "To actually import the modules or their contents, you need to use one of the forms shown above."
   ]
  },
  {
   "cell_type": "markdown",
   "id": "827a046c",
   "metadata": {},
   "source": [
    "<a class=\"anchor\" id=\"package_initialization\"></a>\n",
    "\n",
    "## Package Initialization"
   ]
  },
  {
   "cell_type": "markdown",
   "id": "50ce51e9",
   "metadata": {},
   "source": [
    "If a file named `__init__.py` is present in a package directory, it is invoked when the package or a module in the package is imported. This can be used for execution of package initialization code, such as initialization of package-level data."
   ]
  },
  {
   "cell_type": "markdown",
   "id": "bb8618b4",
   "metadata": {},
   "source": [
    "For example, consider the following `__init__.py` file:"
   ]
  },
  {
   "cell_type": "markdown",
   "id": "56871ab7",
   "metadata": {},
   "source": [
    "***\\_\\_init\\_\\_.py***"
   ]
  },
  {
   "cell_type": "code",
   "execution_count": null,
   "id": "46b7637c",
   "metadata": {},
   "outputs": [],
   "source": [
    "print(f'Invoking __init__.py for {__name__}')\n",
    "A = ['quux', 'corge', 'grault']"
   ]
  },
  {
   "cell_type": "markdown",
   "id": "bab33223",
   "metadata": {},
   "source": [
    "Let’s add this file to the `pkg` directory from the above example:"
   ]
  },
  {
   "cell_type": "markdown",
   "id": "fb5d6a4c",
   "metadata": {},
   "source": [
    "<img src=\"images/python-modules-and-packages-–-an-introduction/pkg2.dab97c2f9c58.png\" width=\"600px\">"
   ]
  },
  {
   "cell_type": "markdown",
   "id": "bab004f8",
   "metadata": {},
   "source": [
    "Now when the package is imported, the global list `A` is initialized:"
   ]
  },
  {
   "cell_type": "code",
   "execution_count": null,
   "id": "9aae99ac",
   "metadata": {},
   "outputs": [],
   "source": [
    ">>>>>> import pkg\n",
    "Invoking __init__.py for pkg\n",
    ">>> pkg.A\n",
    "['quux', 'corge', 'grault']"
   ]
  },
  {
   "cell_type": "markdown",
   "id": "c75a1db8",
   "metadata": {},
   "source": [
    "A **module** in the package can access the global variable by importing it in turn:"
   ]
  },
  {
   "cell_type": "markdown",
   "id": "6bbf16c5",
   "metadata": {},
   "source": [
    "***mod1.py***"
   ]
  },
  {
   "cell_type": "code",
   "execution_count": null,
   "id": "09300668",
   "metadata": {},
   "outputs": [],
   "source": [
    "def foo():\n",
    "    from pkg import A\n",
    "    print('[mod1] foo() / A = ', A)\n",
    "\n",
    "class Foo:\n",
    "    pass"
   ]
  },
  {
   "cell_type": "code",
   "execution_count": null,
   "id": "fffad218",
   "metadata": {},
   "outputs": [],
   "source": [
    ">>>>>> from pkg import mod1\n",
    "Invoking __init__.py for pkg\n",
    ">>> mod1.foo()\n",
    "[mod1] foo() / A =  ['quux', 'corge', 'grault']"
   ]
  },
  {
   "cell_type": "markdown",
   "id": "e2e1b5f1",
   "metadata": {},
   "source": [
    "`__init__.py` can also be used to effect automatic importing of modules from a package. For example, earlier you saw that the statement `import pkg` only places the name `pkg` in the caller’s local symbol table and doesn’t import any modules. But if `__init__.py` in the `pkg` directory contains the following:"
   ]
  },
  {
   "cell_type": "markdown",
   "id": "03c51047",
   "metadata": {},
   "source": [
    "***\\_\\_init\\_\\_.py***"
   ]
  },
  {
   "cell_type": "code",
   "execution_count": null,
   "id": "059749b6",
   "metadata": {},
   "outputs": [],
   "source": [
    "print(f'Invoking __init__.py for {__name__}')\n",
    "import pkg.mod1, pkg.mod2"
   ]
  },
  {
   "cell_type": "markdown",
   "id": "14671d9c",
   "metadata": {},
   "source": [
    "then when you execute `import pkg`, modules `mod1` and `mod2` are imported automatically:"
   ]
  },
  {
   "cell_type": "code",
   "execution_count": null,
   "id": "e3e5a6e0",
   "metadata": {},
   "outputs": [],
   "source": [
    ">>>>>> import pkg\n",
    "Invoking __init__.py for pkg\n",
    ">>> pkg.mod1.foo()\n",
    "[mod1] foo()\n",
    ">>> pkg.mod2.bar()\n",
    "[mod2] bar()"
   ]
  },
  {
   "cell_type": "markdown",
   "id": "05618f67",
   "metadata": {},
   "source": [
    "<a class=\"anchor\" id=\"importing_`*`_from_a_package\"></a>\n",
    "\n",
    "## Importing `*` From a Package"
   ]
  },
  {
   "cell_type": "markdown",
   "id": "92ab000d",
   "metadata": {},
   "source": [
    "For the purposes of the following discussion, the previously defined package is expanded to contain some additional modules:"
   ]
  },
  {
   "cell_type": "markdown",
   "id": "2ac673cd",
   "metadata": {},
   "source": [
    "<img src=\"images/python-modules-and-packages-–-an-introduction/pkg3.d2160908ae77.png\" width=\"600px\">"
   ]
  },
  {
   "cell_type": "markdown",
   "id": "748c9586",
   "metadata": {},
   "source": [
    "There are now four modules defined in the `pkg` directory. Their contents are as shown below:"
   ]
  },
  {
   "cell_type": "markdown",
   "id": "3a9ad0d8",
   "metadata": {},
   "source": [
    "***mod1.py***"
   ]
  },
  {
   "cell_type": "code",
   "execution_count": null,
   "id": "b2092e39",
   "metadata": {},
   "outputs": [],
   "source": [
    "def foo():\n",
    "    print('[mod1] foo()')\n",
    "\n",
    "class Foo:\n",
    "    pass"
   ]
  },
  {
   "cell_type": "markdown",
   "id": "00f4b1e9",
   "metadata": {},
   "source": [
    "***mod2.py***"
   ]
  },
  {
   "cell_type": "code",
   "execution_count": null,
   "id": "0e81dec6",
   "metadata": {},
   "outputs": [],
   "source": [
    "def bar():\n",
    "    print('[mod2] bar()')\n",
    "\n",
    "class Bar:\n",
    "    pass"
   ]
  },
  {
   "cell_type": "markdown",
   "id": "b9e15536",
   "metadata": {},
   "source": [
    "***mod3.py***"
   ]
  },
  {
   "cell_type": "code",
   "execution_count": null,
   "id": "6a4703d2",
   "metadata": {},
   "outputs": [],
   "source": [
    "def baz():\n",
    "    print('[mod3] baz()')\n",
    "\n",
    "class Baz:\n",
    "    pass"
   ]
  },
  {
   "cell_type": "markdown",
   "id": "826f6bc9",
   "metadata": {},
   "source": [
    "***mod4.py***"
   ]
  },
  {
   "cell_type": "code",
   "execution_count": null,
   "id": "eacb5fbd",
   "metadata": {},
   "outputs": [],
   "source": [
    "def qux():\n",
    "    print('[mod4] qux()')\n",
    "\n",
    "class Qux:\n",
    "    pass"
   ]
  },
  {
   "cell_type": "markdown",
   "id": "261a2f06",
   "metadata": {},
   "source": [
    "(Imaginative, aren’t they?)"
   ]
  },
  {
   "cell_type": "markdown",
   "id": "75984b24",
   "metadata": {},
   "source": [
    "You have already seen that when `import *` is used for a **module**, *all* objects from the module are imported into the local symbol table, except those whose names begin with an underscore, as always:"
   ]
  },
  {
   "cell_type": "code",
   "execution_count": null,
   "id": "c0e4bcae",
   "metadata": {},
   "outputs": [],
   "source": [
    ">>>>>> dir()\n",
    "['__annotations__', '__builtins__', '__doc__', '__loader__', '__name__',\n",
    "'__package__', '__spec__']\n",
    "\n",
    ">>> from pkg.mod3 import *\n",
    "\n",
    ">>> dir()\n",
    "['Baz', '__annotations__', '__builtins__', '__doc__', '__loader__', '__name__',\n",
    "'__package__', '__spec__', 'baz']\n",
    ">>> baz()\n",
    "[mod3] baz()\n",
    ">>> Baz\n",
    "<class 'pkg.mod3.Baz'>"
   ]
  },
  {
   "cell_type": "markdown",
   "id": "7ebcbfe0",
   "metadata": {},
   "source": [
    "The analogous statement for a **package** is this:"
   ]
  },
  {
   "cell_type": "code",
   "execution_count": null,
   "id": "4cfa19ca",
   "metadata": {},
   "outputs": [],
   "source": [
    "from <package_name> import *"
   ]
  },
  {
   "cell_type": "markdown",
   "id": "b39e3b4e",
   "metadata": {},
   "source": [
    "What does that do?"
   ]
  },
  {
   "cell_type": "code",
   "execution_count": null,
   "id": "3102d92f",
   "metadata": {},
   "outputs": [],
   "source": [
    ">>>>>> dir()\n",
    "['__annotations__', '__builtins__', '__doc__', '__loader__', '__name__',\n",
    "'__package__', '__spec__']\n",
    "\n",
    ">>> from pkg import *\n",
    ">>> dir()\n",
    "['__annotations__', '__builtins__', '__doc__', '__loader__', '__name__',\n",
    "'__package__', '__spec__']"
   ]
  },
  {
   "cell_type": "markdown",
   "id": "d4b4bae4",
   "metadata": {},
   "source": [
    "Hmph. Not much. You might have expected (assuming you had any expectations at all) that Python would dive down into the package directory, find all the modules it could, and import them all. But as you can see, by default that is not what happens."
   ]
  },
  {
   "cell_type": "markdown",
   "id": "4eca5254",
   "metadata": {},
   "source": [
    "Instead, Python follows this convention: if the `__init__.py` file in the **package** directory contains a **list** named `__all__`, it is taken to be a list of modules that should be imported when the statement `from <package_name> import *` is encountered."
   ]
  },
  {
   "cell_type": "markdown",
   "id": "0c841c71",
   "metadata": {},
   "source": [
    "For the present example, suppose you create an `__init__.py` in the `pkg` directory like this:"
   ]
  },
  {
   "cell_type": "markdown",
   "id": "d08305c4",
   "metadata": {},
   "source": [
    "***pkg/\\_\\_init\\_\\_.py***"
   ]
  },
  {
   "cell_type": "code",
   "execution_count": null,
   "id": "d7794e84",
   "metadata": {},
   "outputs": [],
   "source": [
    "__all__ = [\n",
    "        'mod1',\n",
    "        'mod2',\n",
    "        'mod3',\n",
    "        'mod4'\n",
    "        ]"
   ]
  },
  {
   "cell_type": "markdown",
   "id": "b1f9a890",
   "metadata": {},
   "source": [
    "Now `from pkg import *` imports all four modules:"
   ]
  },
  {
   "cell_type": "code",
   "execution_count": null,
   "id": "7fd2a791",
   "metadata": {},
   "outputs": [],
   "source": [
    ">>>>>> dir()\n",
    "['__annotations__', '__builtins__', '__doc__', '__loader__', '__name__',\n",
    "'__package__', '__spec__']\n",
    "\n",
    ">>> from pkg import *\n",
    ">>> dir()\n",
    "['__annotations__', '__builtins__', '__doc__', '__loader__', '__name__',\n",
    "'__package__', '__spec__', 'mod1', 'mod2', 'mod3', 'mod4']\n",
    ">>> mod2.bar()\n",
    "[mod2] bar()\n",
    ">>> mod4.Qux\n",
    "<class 'pkg.mod4.Qux'>"
   ]
  },
  {
   "cell_type": "markdown",
   "id": "d9feaefc",
   "metadata": {},
   "source": [
    "Using `import *` still isn’t considered terrific form, any more for **packages** than for **modules**. But this facility at least gives the creator of the package some control over what happens when `import *` is specified. (In fact, it provides the capability to disallow it entirely, simply by declining to define `__all__` at all. As you have seen, the default behavior for packages is to import nothing.)"
   ]
  },
  {
   "cell_type": "markdown",
   "id": "efb09eaa",
   "metadata": {},
   "source": [
    "By the way, `__all__` can be defined in a **module** as well and serves the same purpose: to control what is imported with `import *`. For example, modify `mod1.py` as follows:"
   ]
  },
  {
   "cell_type": "markdown",
   "id": "aa5c0503",
   "metadata": {},
   "source": [
    "***pkg/mod1.py***"
   ]
  },
  {
   "cell_type": "code",
   "execution_count": null,
   "id": "4df84c6b",
   "metadata": {},
   "outputs": [],
   "source": [
    "__all__ = ['foo']\n",
    "\n",
    "def foo():\n",
    "    print('[mod1] foo()')\n",
    "\n",
    "class Foo:\n",
    "    pass"
   ]
  },
  {
   "cell_type": "markdown",
   "id": "bbee4aa0",
   "metadata": {},
   "source": [
    "Now an `import *` statement from `pkg.mod1` will only import what is contained in `__all__`:"
   ]
  },
  {
   "cell_type": "code",
   "execution_count": null,
   "id": "46c61c07",
   "metadata": {},
   "outputs": [],
   "source": [
    ">>>>>> dir()\n",
    "['__annotations__', '__builtins__', '__doc__', '__loader__', '__name__',\n",
    "'__package__', '__spec__']\n",
    "\n",
    ">>> from pkg.mod1 import *\n",
    ">>> dir()\n",
    "['__annotations__', '__builtins__', '__doc__', '__loader__', '__name__',\n",
    "'__package__', '__spec__', 'foo']\n",
    "\n",
    ">>> foo()\n",
    "[mod1] foo()\n",
    ">>> Foo\n",
    "Traceback (most recent call last):\n",
    "  File \"<pyshell#37>\", line 1, in <module>\n",
    "    Foo\n",
    "NameError: name 'Foo' is not defined"
   ]
  },
  {
   "cell_type": "markdown",
   "id": "e65e9fd4",
   "metadata": {},
   "source": [
    "`foo()` (the function) is now defined in the local namespace, but `Foo` (the class) is not, because the latter is not in `__all__`."
   ]
  },
  {
   "cell_type": "markdown",
   "id": "c5751d66",
   "metadata": {},
   "source": [
    "In summary, `__all__` is used by both **packages** and **modules** to control what is imported when `import *` is specified. But *the default behavior differs*:"
   ]
  },
  {
   "cell_type": "markdown",
   "id": "232933a7",
   "metadata": {},
   "source": [
    "- For a package, when `__all__` is not defined, `import *` does not import anything.\n",
    "- For a module, when `__all__` is not defined, `import *` imports everything (except—you guessed it—names starting with an underscore).\n"
   ]
  },
  {
   "cell_type": "markdown",
   "id": "9260d39a",
   "metadata": {},
   "source": [
    "<a class=\"anchor\" id=\"subpackages\"></a>\n",
    "\n",
    "## Subpackages"
   ]
  },
  {
   "cell_type": "markdown",
   "id": "037617fd",
   "metadata": {},
   "source": [
    "Packages can contain nested **subpackages** to arbitrary depth. For example, let’s make one more modification to the example **package** directory as follows:"
   ]
  },
  {
   "cell_type": "markdown",
   "id": "a83ed9d9",
   "metadata": {},
   "source": [
    "<img src=\"images/python-modules-and-packages-–-an-introduction/pkg4.a830d6e144bf.png\" width=\"600px\">"
   ]
  },
  {
   "cell_type": "markdown",
   "id": "cb591312",
   "metadata": {},
   "source": [
    "The four modules (`mod1.py`, `mod2.py`, `mod3.py` and `mod4.py`) are defined as previously. But now, instead of being lumped together into the `pkg` directory, they are split out into two **subpackage** directories, `sub_pkg1` and `sub_pkg2`."
   ]
  },
  {
   "cell_type": "markdown",
   "id": "6f7d72b6",
   "metadata": {},
   "source": [
    "Importing still works the same as shown previously. Syntax is similar, but additional **dot notation** is used to separate **package** name from **subpackage** name:"
   ]
  },
  {
   "cell_type": "code",
   "execution_count": null,
   "id": "88ff8379",
   "metadata": {},
   "outputs": [],
   "source": [
    ">>>>>> import pkg.sub_pkg1.mod1\n",
    ">>> pkg.sub_pkg1.mod1.foo()\n",
    "[mod1] foo()\n",
    "\n",
    ">>> from pkg.sub_pkg1 import mod2\n",
    ">>> mod2.bar()\n",
    "[mod2] bar()\n",
    "\n",
    ">>> from pkg.sub_pkg2.mod3 import baz\n",
    ">>> baz()\n",
    "[mod3] baz()\n",
    "\n",
    ">>> from pkg.sub_pkg2.mod4 import qux as grault\n",
    ">>> grault()\n",
    "[mod4] qux()"
   ]
  },
  {
   "cell_type": "markdown",
   "id": "f4db1936",
   "metadata": {},
   "source": [
    "In addition, a module in one **subpackage** can reference objects in a **sibling subpackage** (in the event that the sibling contains some functionality that you need). For example, suppose you want to import and execute function `foo()` (defined in module `mod1`) from within module `mod3`. You can either use an **absolute import**:"
   ]
  },
  {
   "cell_type": "markdown",
   "id": "8492820b",
   "metadata": {},
   "source": [
    "***pkg/sub\\_\\_pkg2/mod3.py***"
   ]
  },
  {
   "cell_type": "code",
   "execution_count": null,
   "id": "450c9c14",
   "metadata": {},
   "outputs": [],
   "source": [
    "def baz():\n",
    "    print('[mod3] baz()')\n",
    "\n",
    "class Baz:\n",
    "    pass\n",
    "\n",
    "from pkg.sub_pkg1.mod1 import foo\n",
    "foo()"
   ]
  },
  {
   "cell_type": "code",
   "execution_count": null,
   "id": "1d9c1a22",
   "metadata": {},
   "outputs": [],
   "source": [
    ">>>>>> from pkg.sub_pkg2 import mod3\n",
    "[mod1] foo()\n",
    ">>> mod3.foo()\n",
    "[mod1] foo()"
   ]
  },
  {
   "cell_type": "markdown",
   "id": "49b2f297",
   "metadata": {},
   "source": [
    "Or you can use a **relative import**, where `..` refers to the package one level up. From within `mod3.py`, which is in subpackage `sub_pkg2`,"
   ]
  },
  {
   "cell_type": "markdown",
   "id": "e67a3fd4",
   "metadata": {},
   "source": [
    "- `..` evaluates to the parent package (`pkg`), and\n",
    "- `..sub_pkg1` evaluates to subpackage `sub_pkg1` of the parent package.\n"
   ]
  },
  {
   "cell_type": "markdown",
   "id": "696fb8a5",
   "metadata": {},
   "source": [
    "***pkg/sub\\_\\_pkg2/mod3.py***"
   ]
  },
  {
   "cell_type": "code",
   "execution_count": null,
   "id": "590af05b",
   "metadata": {},
   "outputs": [],
   "source": [
    "def baz():\n",
    "    print('[mod3] baz()')\n",
    "\n",
    "class Baz:\n",
    "    pass\n",
    "\n",
    "from .. import sub_pkg1\n",
    "print(sub_pkg1)\n",
    "\n",
    "from ..sub_pkg1.mod1 import foo\n",
    "foo()"
   ]
  },
  {
   "cell_type": "code",
   "execution_count": null,
   "id": "7c7b4a03",
   "metadata": {},
   "outputs": [],
   "source": [
    ">>>>>> from pkg.sub_pkg2 import mod3\n",
    "<module 'pkg.sub_pkg1' (namespace)>\n",
    "[mod1] foo()"
   ]
  },
  {
   "cell_type": "markdown",
   "id": "e2422044",
   "metadata": {},
   "source": [
    "<a class=\"anchor\" id=\"conclusion\"></a>\n",
    "\n",
    "## Conclusion"
   ]
  },
  {
   "cell_type": "markdown",
   "id": "bf8d4872-9ce2-4fcf-9786-e516e7eca77f",
   "metadata": {},
   "source": [
    "In this tutorial, you covered the following topics:\n",
    "\n",
    "- How to organize modules into **packages** and **subpackages**\n",
    "- How to control package initialization"
   ]
  },
  {
   "cell_type": "markdown",
   "id": "f67ea58e",
   "metadata": {},
   "source": [
    "If you are developing your own application, creating your own **modules** and **packages** will help you organize and modularize your code, which makes coding, maintenance, and debugging easier."
   ]
  },
  {
   "cell_type": "markdown",
   "id": "9a3c1e5f-1a9a-461e-81ab-51a3df2dc009",
   "metadata": {},
   "source": [
    "If you want to learn more, check out the following documentation at **Python.org**:\n",
    "\n",
    "- [The `import` system](https://docs.python.org/3/reference/import.html)\n",
    "- [The Python tutorial: Modules](https://docs.python.org/3/tutorial/modules.html)\n"
   ]
  }
 ],
 "metadata": {
  "kernelspec": {
   "display_name": "Python 3",
   "language": "python",
   "name": "python3"
  },
  "language_info": {
   "codemirror_mode": {
    "name": "ipython",
    "version": 3
   },
   "file_extension": ".py",
   "mimetype": "text/x-python",
   "name": "python",
   "nbconvert_exporter": "python",
   "pygments_lexer": "ipython3",
   "version": "3.8.11"
  }
 },
 "nbformat": 4,
 "nbformat_minor": 5
}
