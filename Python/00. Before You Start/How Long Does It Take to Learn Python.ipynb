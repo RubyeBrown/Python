{
 "cells": [
  {
   "cell_type": "markdown",
   "id": "641ff511-bf5d-4977-bb96-cf5f2a9435d0",
   "metadata": {},
   "source": [
    "# How Long Does It Take to Learn Python?\n",
    "\n",
    "- https://realpython.com/how-long-does-it-take-to-learn-python/"
   ]
  },
  {
   "cell_type": "code",
   "execution_count": null,
   "id": "ddafc660-2c9e-4fd3-bccf-ab3b7c29758c",
   "metadata": {},
   "outputs": [],
   "source": []
  }
 ],
 "metadata": {
  "kernelspec": {
   "display_name": "Python 3",
   "language": "python",
   "name": "python3"
  },
  "language_info": {
   "codemirror_mode": {
    "name": "ipython",
    "version": 3
   },
   "file_extension": ".py",
   "mimetype": "text/x-python",
   "name": "python",
   "nbconvert_exporter": "python",
   "pygments_lexer": "ipython3",
   "version": "3.8.11"
  }
 },
 "nbformat": 4,
 "nbformat_minor": 5
}
