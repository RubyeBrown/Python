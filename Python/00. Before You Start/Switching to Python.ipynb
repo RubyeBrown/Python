{
 "cells": [
  {
   "cell_type": "markdown",
   "id": "2e84c2d6-af68-400f-8eb5-2134a2e21fd3",
   "metadata": {},
   "source": [
    "# Switch from Another Language to Python\n",
    "\n",
    "- https://realpython.com/switching-to-python/"
   ]
  },
  {
   "cell_type": "code",
   "execution_count": null,
   "id": "ec59f10f-e90a-4a3e-a685-8191b923b6c6",
   "metadata": {},
   "outputs": [],
   "source": []
  }
 ],
 "metadata": {
  "kernelspec": {
   "display_name": "Python 3 (ipykernel)",
   "language": "python",
   "name": "python3"
  },
  "language_info": {
   "codemirror_mode": {
    "name": "ipython",
    "version": 3
   },
   "file_extension": ".py",
   "mimetype": "text/x-python",
   "name": "python",
   "nbconvert_exporter": "python",
   "pygments_lexer": "ipython3",
   "version": "3.7.10"
  }
 },
 "nbformat": 4,
 "nbformat_minor": 5
}
