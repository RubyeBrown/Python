{
 "cells": [
  {
   "cell_type": "markdown",
   "id": "f1887521-7fda-4cc4-9358-4cf290b3ced2",
   "metadata": {},
   "source": [
    "# Jupyter Notebook: An Introduction\n",
    "\n",
    "https://realpython.com/jupyter-notebook-introduction/"
   ]
  },
  {
   "cell_type": "code",
   "execution_count": null,
   "id": "e5e1da48-7365-4f9f-aa1b-7a8988ecf47e",
   "metadata": {},
   "outputs": [],
   "source": []
  }
 ],
 "metadata": {
  "kernelspec": {
   "display_name": "Python 3 (ipykernel)",
   "language": "python",
   "name": "python3"
  },
  "language_info": {
   "codemirror_mode": {
    "name": "ipython",
    "version": 3
   },
   "file_extension": ".py",
   "mimetype": "text/x-python",
   "name": "python",
   "nbconvert_exporter": "python",
   "pygments_lexer": "ipython3",
   "version": "3.7.10"
  }
 },
 "nbformat": 4,
 "nbformat_minor": 5
}
