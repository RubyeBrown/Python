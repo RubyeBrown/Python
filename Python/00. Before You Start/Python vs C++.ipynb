{
 "cells": [
  {
   "cell_type": "markdown",
   "id": "578125b3-bf37-4506-b0d7-f85abedc9bbd",
   "metadata": {},
   "source": [
    "# Python vs C++: Selecting the Right Tool for the Job\n",
    "\n",
    "- https://realpython.com/python-vs-cpp/"
   ]
  },
  {
   "cell_type": "code",
   "execution_count": null,
   "id": "966784a0-d16d-4d22-99f9-61985cda6eb1",
   "metadata": {},
   "outputs": [],
   "source": []
  }
 ],
 "metadata": {
  "kernelspec": {
   "display_name": "Python 3 (ipykernel)",
   "language": "python",
   "name": "python3"
  },
  "language_info": {
   "codemirror_mode": {
    "name": "ipython",
    "version": 3
   },
   "file_extension": ".py",
   "mimetype": "text/x-python",
   "name": "python",
   "nbconvert_exporter": "python",
   "pygments_lexer": "ipython3",
   "version": "3.7.10"
  }
 },
 "nbformat": 4,
 "nbformat_minor": 5
}
