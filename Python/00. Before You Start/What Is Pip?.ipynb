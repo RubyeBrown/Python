{
 "cells": [
  {
   "cell_type": "markdown",
   "id": "f43e73b1-099f-4402-8097-e1f3f72966c1",
   "metadata": {},
   "source": [
    "# What Is Pip? A Guide for New Pythonistas\n",
    "\n",
    "- https://realpython.com/what-is-pip/"
   ]
  },
  {
   "cell_type": "code",
   "execution_count": null,
   "id": "5da4185f-bd18-4c08-805d-e591d1b8b071",
   "metadata": {},
   "outputs": [],
   "source": []
  }
 ],
 "metadata": {
  "kernelspec": {
   "display_name": "Python 3 (ipykernel)",
   "language": "python",
   "name": "python3"
  },
  "language_info": {
   "codemirror_mode": {
    "name": "ipython",
    "version": 3
   },
   "file_extension": ".py",
   "mimetype": "text/x-python",
   "name": "python",
   "nbconvert_exporter": "python",
   "pygments_lexer": "ipython3",
   "version": "3.7.10"
  }
 },
 "nbformat": 4,
 "nbformat_minor": 5
}
