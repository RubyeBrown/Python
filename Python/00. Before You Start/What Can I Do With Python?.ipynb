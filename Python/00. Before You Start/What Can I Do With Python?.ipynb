{
 "cells": [
  {
   "cell_type": "markdown",
   "id": "77dc0cf5-8338-4f83-9feb-1b0cfd357ee7",
   "metadata": {},
   "source": [
    "# What Can I Do With Python?\n",
    "\n",
    "- https://realpython.com/what-can-i-do-with-python/"
   ]
  },
  {
   "cell_type": "code",
   "execution_count": null,
   "id": "fe5b628e-2cb6-4a3f-a037-2a0dd10e2ea9",
   "metadata": {},
   "outputs": [],
   "source": []
  }
 ],
 "metadata": {
  "kernelspec": {
   "display_name": "Python 3 (ipykernel)",
   "language": "python",
   "name": "python3"
  },
  "language_info": {
   "codemirror_mode": {
    "name": "ipython",
    "version": 3
   },
   "file_extension": ".py",
   "mimetype": "text/x-python",
   "name": "python",
   "nbconvert_exporter": "python",
   "pygments_lexer": "ipython3",
   "version": "3.7.10"
  }
 },
 "nbformat": 4,
 "nbformat_minor": 5
}
