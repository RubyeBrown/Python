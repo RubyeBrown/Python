{
 "cells": [
  {
   "cell_type": "markdown",
   "id": "cce87c34-3789-4bc8-8096-a7b961d1541c",
   "metadata": {},
   "source": [
    "# Python IDEs and Code Editors (Guide)\n",
    "\n",
    "- https://realpython.com/python-ides-code-editors-guide/"
   ]
  },
  {
   "cell_type": "code",
   "execution_count": null,
   "id": "18dfa598-eeea-4ebc-80d6-46af91a4220d",
   "metadata": {},
   "outputs": [],
   "source": []
  }
 ],
 "metadata": {
  "kernelspec": {
   "display_name": "Python 3 (ipykernel)",
   "language": "python",
   "name": "python3"
  },
  "language_info": {
   "codemirror_mode": {
    "name": "ipython",
    "version": 3
   },
   "file_extension": ".py",
   "mimetype": "text/x-python",
   "name": "python",
   "nbconvert_exporter": "python",
   "pygments_lexer": "ipython3",
   "version": "3.7.10"
  }
 },
 "nbformat": 4,
 "nbformat_minor": 5
}
