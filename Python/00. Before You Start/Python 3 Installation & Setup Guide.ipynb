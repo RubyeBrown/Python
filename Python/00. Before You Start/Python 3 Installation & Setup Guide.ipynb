{
 "cells": [
  {
   "cell_type": "markdown",
   "id": "a2f000fd-3d9e-4690-ab80-85e46273748b",
   "metadata": {},
   "source": [
    "# Python 3 Installation & Setup Guide\n",
    "\n",
    "- https://realpython.com/installing-python/"
   ]
  },
  {
   "cell_type": "code",
   "execution_count": null,
   "id": "ff0e8235-f15e-487a-a565-fd17951a2225",
   "metadata": {},
   "outputs": [],
   "source": []
  }
 ],
 "metadata": {
  "kernelspec": {
   "display_name": "Python 3 (ipykernel)",
   "language": "python",
   "name": "python3"
  },
  "language_info": {
   "codemirror_mode": {
    "name": "ipython",
    "version": 3
   },
   "file_extension": ".py",
   "mimetype": "text/x-python",
   "name": "python",
   "nbconvert_exporter": "python",
   "pygments_lexer": "ipython3",
   "version": "3.7.10"
  }
 },
 "nbformat": 4,
 "nbformat_minor": 5
}
