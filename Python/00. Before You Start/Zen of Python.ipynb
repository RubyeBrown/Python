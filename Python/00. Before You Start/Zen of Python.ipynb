{
 "cells": [
  {
   "cell_type": "markdown",
   "id": "22dc6c8b-29fa-42a9-8ffb-ec2867aaa00e",
   "metadata": {},
   "source": [
    "# Zen of Python\n",
    "\n",
    "- https://www.python.org/dev/peps/pep-0020/"
   ]
  },
  {
   "cell_type": "code",
   "execution_count": null,
   "id": "58602a7d-f569-4107-944e-15079b1a145b",
   "metadata": {},
   "outputs": [],
   "source": []
  }
 ],
 "metadata": {
  "kernelspec": {
   "display_name": "Python 3 (ipykernel)",
   "language": "python",
   "name": "python3"
  },
  "language_info": {
   "codemirror_mode": {
    "name": "ipython",
    "version": 3
   },
   "file_extension": ".py",
   "mimetype": "text/x-python",
   "name": "python",
   "nbconvert_exporter": "python",
   "pygments_lexer": "ipython3",
   "version": "3.7.10"
  }
 },
 "nbformat": 4,
 "nbformat_minor": 5
}
