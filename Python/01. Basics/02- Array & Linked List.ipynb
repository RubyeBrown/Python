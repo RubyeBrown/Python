{
 "cells": [
  {
   "cell_type": "markdown",
   "metadata": {},
   "source": [
    "# 02- Array & Linked List"
   ]
  },
  {
   "cell_type": "markdown",
   "metadata": {},
   "source": [
    "## Table of Contents:\n",
    "* [1. Array](#array)\n",
    "* [2. Linked List](#linked-list)\n",
    "* [3. Array vs. Linked List](#array-vs-linked-list)"
   ]
  },
  {
   "cell_type": "markdown",
   "metadata": {},
   "source": [
    "<a class=\"anchor\" id=\"array\"></a>\n",
    "## 1. Array"
   ]
  },
  {
   "cell_type": "markdown",
   "metadata": {},
   "source": [
    "An array is defined as a set of a definite number of homogeneous elements or data items. It means an array can contain one type of data only, either all integers, all floating-point numbers, or all characters.\n",
    "\n",
    "Declaration of an array is as follows:\n",
    "\n",
    "C:\n",
    "```C\n",
    "int a [10];\n",
    "```\n",
    "\n",
    "Python:\n",
    "```python\n",
    "mylist = []\n",
    "```"
   ]
  },
  {
   "cell_type": "markdown",
   "metadata": {},
   "source": [
    "The individual elements of an array can be accessed by describing the name of the array, followed by index or subscript (determining the location of the element in the array) inside the square brackets.\n",
    "\n",
    "For example, to retrieve 5th element of the array, we need to write a statement `a[4]`."
   ]
  },
  {
   "cell_type": "markdown",
   "metadata": {},
   "source": [
    "<img src=\"./images/array.png\" alt=\"string indexing\" width=500 align=\"center\" />"
   ]
  },
  {
   "cell_type": "markdown",
   "metadata": {},
   "source": [
    "<a class=\"anchor\" id=\"linked-list\"></a>\n",
    "## 2. Linked List"
   ]
  },
  {
   "cell_type": "markdown",
   "metadata": {},
   "source": [
    "Linked list is a particular list of some data elements linked to one other. In this every element point to the next element which represents the logical ordering. Each element is called a node, which has two parts"
   ]
  },
  {
   "cell_type": "markdown",
   "metadata": {},
   "source": [
    "**INFO** part which stores the information and **POINTER** which points to the next element. As you know for storing address, we have a unique data structures in C called pointers. Hence the second field of the list must be a pointer type."
   ]
  },
  {
   "cell_type": "markdown",
   "metadata": {},
   "source": [
    "<img src=\"./images/singly_linked_list.png\" alt=\"string indexing\" width=500 align=\"center\" />"
   ]
  },
  {
   "cell_type": "markdown",
   "metadata": {},
   "source": [
    "<img src=\"./images/doubly_linked_list.png\" alt=\"string indexing\" width=500 align=\"center\" />"
   ]
  },
  {
   "cell_type": "markdown",
   "metadata": {},
   "source": [
    "<a class=\"anchor\" id=\"array-vs-linked-list\"></a>\n",
    "## 3. Array vs. Linked List"
   ]
  },
  {
   "cell_type": "markdown",
   "metadata": {},
   "source": [
    "|Basis for Comparison|Array|Linked List|\n",
    "|:--|:--|:--|\n",
    "|**Basic**|It is a consistent set of a fixed number of data items. |It is an ordered set comprising a variable number of data items.|\n",
    "|**Size**|\tSpecified during declaration.|\tNo need to specify; grow and shrink during execution.|\n",
    "|**Storage**| Allocation|\tElement location is allocated during compile time.\tElement position is assigned during run time.|\n",
    "|**Order of the elements**|\tStored consecutively|\tStored randomly|\n",
    "|**Accessing the element**|\tDirect or randomly accessed, i.e., Specify the array index or subscript.|\tSequentially accessed, i.e., Traverse starting from the first node in the list by the pointer.|\n",
    "|**Insertion and deletion of element**|\tSlow relatively as shifting is required.|Easier, fast and efficient.\n",
    "|**Searching**|\tBinary search and linear search|Linear search|\n",
    "|**Memory required**|\tLess|\tMore|\n",
    "|**Memory Utilization**|\tIneffective|\tEfficient|"
   ]
  }
 ],
 "metadata": {
  "kernelspec": {
   "display_name": "Python 3",
   "language": "python",
   "name": "python3"
  },
  "language_info": {
   "codemirror_mode": {
    "name": "ipython",
    "version": 3
   },
   "file_extension": ".py",
   "mimetype": "text/x-python",
   "name": "python",
   "nbconvert_exporter": "python",
   "pygments_lexer": "ipython3",
   "version": "3.8.11"
  }
 },
 "nbformat": 4,
 "nbformat_minor": 4
}
