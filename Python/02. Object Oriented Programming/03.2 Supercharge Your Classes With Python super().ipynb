{
 "cells": [
  {
   "cell_type": "markdown",
   "id": "35401178",
   "metadata": {},
   "source": [
    "<img src=\"../../images/banners/python-oop.png\" width=\"600\"/>"
   ]
  },
  {
   "cell_type": "markdown",
   "id": "f5112e2d",
   "metadata": {},
   "source": [
    "# <img src=\"../../images/logos/python.png\" width=\"23\"/> Supercharge Your Classes With Python super() \n"
   ]
  },
  {
   "cell_type": "markdown",
   "id": "11839459",
   "metadata": {},
   "source": [
    "## <img src=\"../../images/logos/toc.png\" width=\"20\"/> Table of Contents \n",
    "* [An Overview of Python’s `super()` Function](#an_overview_of_python’s_`super()`_function)\n",
    "* [`super()` in Single Inheritance](#`super()`_in_single_inheritance)\n",
    "* [What Can `super()` Do for You?](#what_can_`super()`_do_for_you?)\n",
    "* [A `super()` Deep Dive](#a_`super()`_deep_dive)\n",
    "* [`super()` in Multiple Inheritance](#`super()`_in_multiple_inheritance)\n",
    "    * [Multiple Inheritance Overview](#multiple_inheritance_overview)\n",
    "    * [Method Resolution Order](#method_resolution_order)\n",
    "    * [Multiple Inheritance Alternatives](#multiple_inheritance_alternatives)\n",
    "* [A `super()` Recap](#a_`super()`_recap)\n",
    "\n",
    "---"
   ]
  },
  {
   "cell_type": "markdown",
   "id": "ca8e5221",
   "metadata": {},
   "source": [
    "While Python isn’t purely an object-oriented language, it’s flexible enough and powerful enough to allow you to build your applications using the object-oriented paradigm. One of the ways in which Python achieves this is by supporting **inheritance**, which it does with `super()`."
   ]
  },
  {
   "cell_type": "markdown",
   "id": "c238da2e",
   "metadata": {},
   "source": [
    "**In this tutorial, you’ll learn about the following:**"
   ]
  },
  {
   "cell_type": "markdown",
   "id": "6fea0e68",
   "metadata": {},
   "source": [
    "- The concept of inheritance in Python\n",
    "- Multiple inheritance in Python\n",
    "- How the `super()` function works\n",
    "- How the `super()` function in single inheritance works\n",
    "- How the `super()` function in multiple inheritance works\n"
   ]
  },
  {
   "cell_type": "markdown",
   "id": "b23a0e64",
   "metadata": {},
   "source": [
    "<a class=\"anchor\" id=\"an_overview_of_python’s_`super()`_function\"></a>\n",
    "\n",
    "## An Overview of Python’s `super()` Function"
   ]
  },
  {
   "cell_type": "markdown",
   "id": "a6db699a",
   "metadata": {},
   "source": [
    "`super()` alone returns a temporary object of the superclass that then allows you to call that superclass’s methods. "
   ]
  },
  {
   "cell_type": "markdown",
   "id": "cbd7496b",
   "metadata": {},
   "source": [
    "Why would you want to do any of this? While the possibilities are limited by your imagination, a common use case is building classes that extend the functionality of previously built classes. "
   ]
  },
  {
   "cell_type": "markdown",
   "id": "9cd1e0bc",
   "metadata": {},
   "source": [
    "Calling the previously built methods with `super()` saves you from needing to rewrite those methods in your subclass, and allows you to swap out superclasses with minimal code changes. "
   ]
  },
  {
   "cell_type": "markdown",
   "id": "4911e18d",
   "metadata": {},
   "source": [
    "<a class=\"anchor\" id=\"`super()`_in_single_inheritance\"></a>\n",
    "\n",
    "## `super()` in Single Inheritance"
   ]
  },
  {
   "cell_type": "markdown",
   "id": "5e280b5c",
   "metadata": {},
   "source": [
    "For me at least, it’s easier to understand these concepts when looking at code, so let’s write classes describing some shapes:"
   ]
  },
  {
   "cell_type": "code",
   "execution_count": null,
   "id": "70d45078",
   "metadata": {},
   "outputs": [],
   "source": [
    "class Rectangle:\n",
    "    def __init__(self, length, width):\n",
    "        self.length = length\n",
    "        self.width = width\n",
    "\n",
    "    def area(self):\n",
    "        return self.length * self.width\n",
    "\n",
    "    def perimeter(self):\n",
    "        return 2 * self.length + 2 * self.width\n",
    "\n",
    "class Square:\n",
    "    def __init__(self, length):\n",
    "        self.length = length\n",
    "\n",
    "    def area(self):\n",
    "        return self.length * self.length\n",
    "\n",
    "    def perimeter(self):\n",
    "        return 4 * self.length"
   ]
  },
  {
   "cell_type": "markdown",
   "id": "4d0ce3e6",
   "metadata": {},
   "source": [
    "Here, there are two similar classes: `Rectangle` and `Square`."
   ]
  },
  {
   "cell_type": "markdown",
   "id": "e622eb00",
   "metadata": {},
   "source": [
    "You can use them as below:"
   ]
  },
  {
   "cell_type": "code",
   "execution_count": null,
   "id": "f0591a64",
   "metadata": {},
   "outputs": [],
   "source": [
    ">>> square = Square(4)\n",
    ">>> square.area()\n",
    "16\n",
    ">>> rectangle = Rectangle(2,4)\n",
    ">>> rectangle.area()\n",
    "8"
   ]
  },
  {
   "cell_type": "markdown",
   "id": "bca6e2b0",
   "metadata": {},
   "source": [
    "In this example, you have two shapes that are related to each other: a square is a special kind of rectangle. The code, however, doesn’t reflect that relationship and thus has code that is essentially repeated. "
   ]
  },
  {
   "cell_type": "markdown",
   "id": "a72bf382",
   "metadata": {},
   "source": [
    "By using inheritance, you can reduce the amount of code you write while simultaneously reflecting the real-world relationship between rectangles and squares:"
   ]
  },
  {
   "cell_type": "code",
   "execution_count": null,
   "id": "9dcda66f",
   "metadata": {},
   "outputs": [],
   "source": [
    "class Rectangle:\n",
    "    def __init__(self, length, width):\n",
    "        self.length = length\n",
    "        self.width = width\n",
    "\n",
    "    def area(self):\n",
    "        return self.length * self.width\n",
    "\n",
    "    def perimeter(self):\n",
    "        return 2 * self.length + 2 * self.width\n",
    "\n",
    "# Here we declare that the Square class inherits from the Rectangle class\n",
    "class Square(Rectangle):\n",
    "    def __init__(self, length):\n",
    "        super().__init__(length, length)"
   ]
  },
  {
   "cell_type": "markdown",
   "id": "32c87916",
   "metadata": {},
   "source": [
    "Here, you’ve used `super()` to call the `__init__()` of the `Rectangle` class, allowing you to use it in the `Square` class without repeating code. Below, the core functionality remains after making changes:"
   ]
  },
  {
   "cell_type": "code",
   "execution_count": null,
   "id": "6bd8b7ff",
   "metadata": {},
   "outputs": [],
   "source": [
    ">>> square = Square(4)\n",
    ">>> square.area()\n",
    "16"
   ]
  },
  {
   "cell_type": "markdown",
   "id": "d2b6d921",
   "metadata": {},
   "source": [
    "In this example, `Rectangle` is the superclass, and `Square` is the subclass. "
   ]
  },
  {
   "cell_type": "markdown",
   "id": "f4b3d831",
   "metadata": {},
   "source": [
    "Because the `Square` and `Rectangle` `.__init__()` methods are so similar, you can simply call the superclass’s `.__init__()` method (`Rectangle.__init__()`) from that of `Square` by using `super()`. This sets the `.length` and `.width` attributes even though you just had to supply a single `length` parameter to the `Square` constructor."
   ]
  },
  {
   "cell_type": "markdown",
   "id": "cf16f941",
   "metadata": {},
   "source": [
    "When you run this, even though your `Square` class doesn’t explicitly implement it, the call to `.area()` will use the `.area()` method in the superclass and print `16`. The `Square` class **inherited** `.area()` from the `Rectangle` class."
   ]
  },
  {
   "cell_type": "markdown",
   "id": "c0d1dd4c",
   "metadata": {},
   "source": [
    "<a class=\"anchor\" id=\"what_can_`super()`_do_for_you?\"></a>\n",
    "\n",
    "## What Can `super()` Do for You?"
   ]
  },
  {
   "cell_type": "markdown",
   "id": "511f84bf",
   "metadata": {},
   "source": [
    "So what can `super()` do for you in single inheritance? "
   ]
  },
  {
   "cell_type": "markdown",
   "id": "87a5b5b7",
   "metadata": {},
   "source": [
    "Like in other object-oriented languages, it allows you to call methods of the superclass in your subclass. The primary use case of this is to extend the functionality of the inherited method."
   ]
  },
  {
   "cell_type": "markdown",
   "id": "49ff48c2",
   "metadata": {},
   "source": [
    "In the example below, you will create a class `Cube` that inherits from `Square` and extends the functionality of `.area()` (inherited from the `Rectangle` class through `Square`) to calculate the surface area and volume of a `Cube` instance:"
   ]
  },
  {
   "cell_type": "code",
   "execution_count": null,
   "id": "7e2bff67",
   "metadata": {},
   "outputs": [],
   "source": [
    "class Square(Rectangle):\n",
    "    def __init__(self, length):\n",
    "        super().__init__(length, length)\n",
    "\n",
    "class Cube(Square):\n",
    "    def surface_area(self):\n",
    "        face_area = super().area()\n",
    "        return face_area * 6\n",
    "\n",
    "    def volume(self):\n",
    "        face_area = super().area()\n",
    "        return face_area * self.length"
   ]
  },
  {
   "cell_type": "markdown",
   "id": "9f8e5205",
   "metadata": {},
   "source": [
    "Now that you’ve built the classes, let’s look at the surface area and volume of a cube with a side length of `3`:"
   ]
  },
  {
   "cell_type": "code",
   "execution_count": null,
   "id": "e05f9800",
   "metadata": {},
   "outputs": [],
   "source": [
    ">>> cube = Cube(3)\n",
    ">>> cube.surface_area()\n",
    "54\n",
    ">>> cube.volume()\n",
    "27"
   ]
  },
  {
   "cell_type": "markdown",
   "id": "c9fb75a4",
   "metadata": {},
   "source": [
    "Here you have implemented two methods for the `Cube` class: `.surface_area()` and `.volume()`. Both of these calculations rely on calculating the area of a single face, so rather than reimplementing the area calculation, you use `super()` to extend the area calculation. "
   ]
  },
  {
   "cell_type": "markdown",
   "id": "3e59adba",
   "metadata": {},
   "source": [
    "Also notice that the `Cube` class definition does not have an `.__init__()`. Because `Cube` inherits from `Square` and `.__init__()` doesn’t really do anything differently for `Cube` than it already does for `Square`, you can skip defining it, and the `.__init__()` of the superclass (`Square`) will be called automatically. "
   ]
  },
  {
   "cell_type": "markdown",
   "id": "a7de92fc",
   "metadata": {},
   "source": [
    "`super()` returns a delegate object to a parent class, so you call the method you want directly on it: `super().area()`. "
   ]
  },
  {
   "cell_type": "markdown",
   "id": "650131d2",
   "metadata": {},
   "source": [
    "Not only does this save us from having to rewrite the area calculations, but it also allows us to change the internal `.area()` logic in a single location. This is especially in handy when you have a number of subclasses inheriting from one superclass."
   ]
  },
  {
   "cell_type": "markdown",
   "id": "b1e7b6d5",
   "metadata": {},
   "source": [
    "<a class=\"anchor\" id=\"a_`super()`_deep_dive\"></a>\n",
    "\n",
    "## A `super()` Deep Dive"
   ]
  },
  {
   "cell_type": "markdown",
   "id": "5ea25aa1",
   "metadata": {},
   "source": [
    "Before heading into multiple inheritance, let’s take a quick detour into the mechanics of `super()`."
   ]
  },
  {
   "cell_type": "markdown",
   "id": "7098be4b",
   "metadata": {},
   "source": [
    "While the examples above (and below) call `super()` without any parameters, `super()` can also take two parameters: the first is the subclass, and the second parameter is an object that is an instance of that subclass."
   ]
  },
  {
   "cell_type": "markdown",
   "id": "efb00199",
   "metadata": {},
   "source": [
    "First, let’s see two examples showing what manipulating the first [variable](https://realpython.com/python-variables/) can do, using the classes already shown:"
   ]
  },
  {
   "cell_type": "code",
   "execution_count": null,
   "id": "c8d34336",
   "metadata": {},
   "outputs": [],
   "source": [
    "class Rectangle:\n",
    "    def __init__(self, length, width):\n",
    "        self.length = length\n",
    "        self.width = width\n",
    "\n",
    "    def area(self):\n",
    "        return self.length * self.width\n",
    "\n",
    "    def perimeter(self):\n",
    "        return 2 * self.length + 2 * self.width\n",
    "\n",
    "class Square(Rectangle):\n",
    "    def __init__(self, length):\n",
    "        super(Square, self).__init__(length, length)"
   ]
  },
  {
   "cell_type": "markdown",
   "id": "494bba19",
   "metadata": {},
   "source": [
    "In Python 3, the `super(Square, self)` call is equivalent to the parameterless `super()` call. The first parameter refers to the subclass `Square`, while the second parameter refers to a `Square` object which, in this case, is `self`. You can call `super()` with other classes as well:"
   ]
  },
  {
   "cell_type": "code",
   "execution_count": null,
   "id": "38c39e7c",
   "metadata": {},
   "outputs": [],
   "source": [
    "class Cube(Square):\n",
    "    def surface_area(self):\n",
    "        face_area = super(Square, self).area()\n",
    "        return face_area * 6\n",
    "\n",
    "    def volume(self):\n",
    "        face_area = super(Square, self).area()\n",
    "        return face_area * self.length"
   ]
  },
  {
   "cell_type": "markdown",
   "id": "bcd41358",
   "metadata": {},
   "source": [
    "In this example, you are setting `Square` as the subclass argument to `super()`, instead of `Cube`. This causes `super()` to start searching for a matching method (in this case, `.area()`) at one level above `Square` in the instance hierarchy, in this case `Rectangle`. "
   ]
  },
  {
   "cell_type": "markdown",
   "id": "dd3e7618",
   "metadata": {},
   "source": [
    "In this specific example, the behavior doesn’t change. But imagine that `Square` also implemented an `.area()` function that you wanted to make sure `Cube` did not use. Calling `super()` in this way allows you to do that."
   ]
  },
  {
   "cell_type": "markdown",
   "id": "30325dd4",
   "metadata": {},
   "source": [
    "What about the second parameter? Remember, this is an object that is an instance of the class used as the first parameter. For an example, `isinstance(Cube, Square)` must return `True`. "
   ]
  },
  {
   "cell_type": "markdown",
   "id": "7ed4e76b",
   "metadata": {},
   "source": [
    "By including an instantiated object, `super()` returns a **bound method**: a method that is bound to the object, which gives the method the object’s context such as any instance attributes. If this parameter is not included, the method returned is just a function, unassociated with an object’s context."
   ]
  },
  {
   "cell_type": "markdown",
   "id": "98fb05de",
   "metadata": {},
   "source": [
    "For more information about bound methods, unbound methods, and functions, read the Python documentation [on its descriptor system](https://docs.python.org/3.7/howto/descriptor.html). "
   ]
  },
  {
   "cell_type": "markdown",
   "id": "5f780e07",
   "metadata": {},
   "source": [
    "<a class=\"anchor\" id=\"`super()`_in_multiple_inheritance\"></a>\n",
    "\n",
    "## `super()` in Multiple Inheritance"
   ]
  },
  {
   "cell_type": "markdown",
   "id": "c766728a",
   "metadata": {},
   "source": [
    "Now that you’ve worked through an overview and some examples of `super()` and single inheritance, you will be introduced to an overview and some examples that will demonstrate how multiple inheritance works and how `super()` enables that functionality. "
   ]
  },
  {
   "cell_type": "markdown",
   "id": "dbb048cb",
   "metadata": {},
   "source": [
    "<a class=\"anchor\" id=\"multiple_inheritance_overview\"></a>\n",
    "\n",
    "### Multiple Inheritance Overview"
   ]
  },
  {
   "cell_type": "markdown",
   "id": "01e0bc54",
   "metadata": {},
   "source": [
    "There is another use case in which `super()` really shines, and this one isn’t as common as the single inheritance scenario. In addition to single inheritance, Python supports multiple inheritance, in which a subclass can inherit from multiple superclasses that don’t necessarily inherit from each other (also known as **sibling classes**). "
   ]
  },
  {
   "cell_type": "markdown",
   "id": "bd699195",
   "metadata": {},
   "source": [
    "I’m a very visual person, and I find diagrams are incredibly helpful to understand concepts like this. The image below shows a very simple multiple inheritance scenario, where one class inherits from two unrelated (sibling) superclasses:"
   ]
  },
  {
   "cell_type": "markdown",
   "id": "2fde5f8b",
   "metadata": {},
   "source": [
    "<img src=\"images/supercharge-your-classes-with-python-super()/multiple_inheritance.22fc2c1ac608.png\" width=\"600px\">"
   ]
  },
  {
   "cell_type": "markdown",
   "id": "aad9cb1f",
   "metadata": {},
   "source": [
    "To better illustrate multiple inheritance in action, here is some code for you to try out, showing how you can build a right pyramid (a pyramid with a square base) out of a `Triangle` and a `Square`:"
   ]
  },
  {
   "cell_type": "code",
   "execution_count": null,
   "id": "9e2901b0",
   "metadata": {},
   "outputs": [],
   "source": [
    "class Triangle:\n",
    "    def __init__(self, base, height):\n",
    "        self.base = base\n",
    "        self.height = height\n",
    "\n",
    "    def area(self):\n",
    "        return 0.5 * self.base * self.height\n",
    "\n",
    "class RightPyramid(Triangle, Square):\n",
    "    def __init__(self, base, slant_height):\n",
    "        self.base = base\n",
    "        self.slant_height = slant_height\n",
    "\n",
    "    def area(self):\n",
    "        base_area = super().area()\n",
    "        perimeter = super().perimeter()\n",
    "        return 0.5 * perimeter * self.slant_height + base_area"
   ]
  },
  {
   "cell_type": "markdown",
   "id": "4891be49",
   "metadata": {},
   "source": [
    "This example declares a `Triangle` class and a `RightPyramid` class that inherits from both `Square` and `Triangle`. "
   ]
  },
  {
   "cell_type": "markdown",
   "id": "2b1885ce",
   "metadata": {},
   "source": [
    "You’ll see another `.area()` method that uses `super()` just like in single inheritance, with the aim of it reaching the `.perimeter()` and `.area()` methods defined all the way up in the `Rectangle` class. "
   ]
  },
  {
   "cell_type": "markdown",
   "id": "7db6ceed",
   "metadata": {},
   "source": [
    "The problem, though, is that both superclasses (`Triangle` and `Square`) define a `.area()`. Take a second and think about what might happen when you call `.area()` on `RightPyramid`, and then try calling it like below:"
   ]
  },
  {
   "cell_type": "code",
   "execution_count": null,
   "id": "8972c492",
   "metadata": {},
   "outputs": [],
   "source": [
    ">>> pyramid = RightPyramid(2, 4)\n",
    ">>> pyramid.area()\n",
    "Traceback (most recent call last):\n",
    "  File \"shapes.py\", line 63, in <module>\n",
    "    print(pyramid.area())\n",
    "  File \"shapes.py\", line 47, in area\n",
    "    base_area = super().area()\n",
    "  File \"shapes.py\", line 38, in area\n",
    "    return 0.5 * self.base * self.height\n",
    "AttributeError: 'RightPyramid' object has no attribute 'height'"
   ]
  },
  {
   "cell_type": "markdown",
   "id": "37cf4b80",
   "metadata": {},
   "source": [
    "Did you guess that Python will try to call `Triangle.area()`? This is because of something called the **method resolution order**."
   ]
  },
  {
   "cell_type": "markdown",
   "id": "d43116ef",
   "metadata": {},
   "source": [
    "<a class=\"anchor\" id=\"method_resolution_order\"></a>\n",
    "\n",
    "### Method Resolution Order"
   ]
  },
  {
   "cell_type": "markdown",
   "id": "9dd77bce",
   "metadata": {},
   "source": [
    "The method resolution order (or **MRO**) tells Python how to search for inherited methods. This comes in handy when you’re using `super()` because the MRO tells you exactly where Python will look for a method you’re calling with `super()` and in what order."
   ]
  },
  {
   "cell_type": "markdown",
   "id": "6f132d15",
   "metadata": {},
   "source": [
    "Every class has an `.__mro__` attribute that allows us to inspect the order, so let’s do that:"
   ]
  },
  {
   "cell_type": "code",
   "execution_count": null,
   "id": "43067d19",
   "metadata": {},
   "outputs": [],
   "source": [
    ">>> RightPyramid.__mro__\n",
    "(<class '__main__.RightPyramid'>, <class '__main__.Triangle'>, \n",
    " <class '__main__.Square'>, <class '__main__.Rectangle'>, \n",
    " <class 'object'>)"
   ]
  },
  {
   "cell_type": "markdown",
   "id": "e65d6cb3",
   "metadata": {},
   "source": [
    "This tells us that methods will be searched first in `Rightpyramid`, then in `Triangle`, then in `Square`, then `Rectangle`, and then, if nothing is found, in `object`, from which all classes originate. "
   ]
  },
  {
   "cell_type": "markdown",
   "id": "6d9b3de4",
   "metadata": {},
   "source": [
    "The problem here is that the interpreter is searching for `.area()` in `Triangle` before `Square` and `Rectangle`, and upon finding `.area()` in `Triangle`, Python calls it instead of the one you want. Because `Triangle.area()` expects there to be a `.height` and a `.base` attribute, Python throws an `AttributeError`. "
   ]
  },
  {
   "cell_type": "markdown",
   "id": "e3cbf734",
   "metadata": {},
   "source": [
    "Luckily, you have some control over how the MRO is constructed. Just by changing the signature of the `RightPyramid` class, you can search in the order you want, and the methods will resolve correctly:"
   ]
  },
  {
   "cell_type": "code",
   "execution_count": null,
   "id": "4fd4390a",
   "metadata": {},
   "outputs": [],
   "source": [
    "class RightPyramid(Square, Triangle):\n",
    "    def __init__(self, base, slant_height):\n",
    "        self.base = base\n",
    "        self.slant_height = slant_height\n",
    "        super().__init__(self.base)\n",
    "\n",
    "    def area(self):\n",
    "        base_area = super().area()\n",
    "        perimeter = super().perimeter()\n",
    "        return 0.5 * perimeter * self.slant_height + base_area"
   ]
  },
  {
   "cell_type": "markdown",
   "id": "b2510223",
   "metadata": {},
   "source": [
    "Notice that `RightPyramid` initializes partially with the `.__init__()` from the `Square` class. This allows `.area()` to use the `.length` on the object, as is designed. "
   ]
  },
  {
   "cell_type": "markdown",
   "id": "6058b932",
   "metadata": {},
   "source": [
    "Now, you can build a pyramid, inspect the MRO, and calculate the surface area:"
   ]
  },
  {
   "cell_type": "code",
   "execution_count": null,
   "id": "e3a4c23b",
   "metadata": {},
   "outputs": [],
   "source": [
    ">>> pyramid = RightPyramid(2, 4)\n",
    ">>> RightPyramid.__mro__\n",
    "(<class '__main__.RightPyramid'>, <class '__main__.Square'>, \n",
    "<class '__main__.Rectangle'>, <class '__main__.Triangle'>, \n",
    "<class 'object'>)\n",
    ">>> pyramid.area()\n",
    "20.0"
   ]
  },
  {
   "cell_type": "markdown",
   "id": "c92f9278",
   "metadata": {},
   "source": [
    "You see that the MRO is now what you’d expect, and you can inspect the area of the pyramid as well, thanks to `.area()` and `.perimeter()`. "
   ]
  },
  {
   "cell_type": "markdown",
   "id": "ad88fc6f",
   "metadata": {},
   "source": [
    "There’s still a problem here, though. For the sake of simplicity, I did a few things wrong in this example: the first, and arguably most importantly, was that I had two separate classes with the same method name and signature. "
   ]
  },
  {
   "cell_type": "markdown",
   "id": "433c6062",
   "metadata": {},
   "source": [
    "This causes issues with method resolution, because the first instance of `.area()` that is encountered in the MRO list will be called. "
   ]
  },
  {
   "cell_type": "markdown",
   "id": "e1a4d707",
   "metadata": {},
   "source": [
    "When you’re using `super()` with multiple inheritance, it’s imperative to design your classes to **cooperate**. Part of this is ensuring that your methods are unique so that they get resolved in the MRO, by making sure method signatures are unique—whether by using method names or method parameters."
   ]
  },
  {
   "cell_type": "markdown",
   "id": "df92b874",
   "metadata": {},
   "source": [
    "In this case, to avoid a complete overhaul of your code, you can rename the `Triangle` class’s `.area()` method to `.tri_area()`. This way, the area methods can continue using class properties rather than taking external parameters:"
   ]
  },
  {
   "cell_type": "code",
   "execution_count": null,
   "id": "cf650f48",
   "metadata": {},
   "outputs": [],
   "source": [
    "class Triangle:\n",
    "    def __init__(self, base, height):\n",
    "        self.base = base\n",
    "        self.height = height\n",
    "        super().__init__()\n",
    "\n",
    "    def tri_area(self):\n",
    "        return 0.5 * self.base * self.height"
   ]
  },
  {
   "cell_type": "markdown",
   "id": "c292470b",
   "metadata": {},
   "source": [
    "Let’s also go ahead and use this in the `RightPyramid` class:"
   ]
  },
  {
   "cell_type": "code",
   "execution_count": null,
   "id": "b4b13275",
   "metadata": {},
   "outputs": [],
   "source": [
    "class RightPyramid(Square, Triangle):\n",
    "    def __init__(self, base, slant_height):\n",
    "        self.base = base\n",
    "        self.slant_height = slant_height\n",
    "        super().__init__(self.base)\n",
    "\n",
    "    def area(self):\n",
    "        base_area = super().area()\n",
    "        perimeter = super().perimeter()\n",
    "        return 0.5 * perimeter * self.slant_height + base_area\n",
    "\n",
    "    def area_2(self):\n",
    "        base_area = super().area()\n",
    "        triangle_area = super().tri_area()\n",
    "        return triangle_area * 4 + base_area"
   ]
  },
  {
   "cell_type": "markdown",
   "id": "5267cbf7",
   "metadata": {},
   "source": [
    "The next issue here is that the code doesn’t have a delegated `Triangle` object like it does for a `Square` object, so calling `.area_2()` will give us an `AttributeError` since `.base` and `.height` don’t have any values. "
   ]
  },
  {
   "cell_type": "markdown",
   "id": "c607ad78",
   "metadata": {},
   "source": [
    "You need to do two things to fix this:"
   ]
  },
  {
   "cell_type": "markdown",
   "id": "cab6e73d",
   "metadata": {},
   "source": [
    "1. \n",
    "All methods that are called with `super()` need to have a call to their superclass’s version of that method. This means that you will need to add `super().__init__()` to the `.__init__()` methods of `Triangle` and `Rectangle`.\n",
    "\n",
    "\n",
    "\n",
    "2. \n",
    "Redesign all the `.__init__()` calls to take a keyword dictionary. See the complete code below.\n",
    "\n",
    "\n",
    "\n"
   ]
  },
  {
   "cell_type": "markdown",
   "id": "b95b3c67",
   "metadata": {},
   "source": [
    "There are a number of important differences in this code:"
   ]
  },
  {
   "cell_type": "markdown",
   "id": "22bbc853",
   "metadata": {},
   "source": [
    "- \n",
    "[**`kwargs`](https://realpython.com/python-kwargs-and-args/) is modified in some places (such as `RightPyramid.__init__()`):** This will allow users of these objects to instantiate them only with the arguments that make sense for that particular object.\n",
    "\n",
    "\n",
    "\n",
    "- \n",
    "**Setting up named arguments before `**kwargs`:** You can see this in `RightPyramid.__init__()`. This has the neat effect of popping that key right out of the `**kwargs` dictionary, so that by the time that it ends up at the end of the MRO in the `object` class, `**kwargs` is empty.\n",
    "\n",
    "\n",
    "\n"
   ]
  },
  {
   "cell_type": "markdown",
   "id": "af1e4b01",
   "metadata": {},
   "source": [
    "Now, when you use these updated classes, you have this:"
   ]
  },
  {
   "cell_type": "code",
   "execution_count": null,
   "id": "1d7c816e",
   "metadata": {},
   "outputs": [],
   "source": [
    ">>> pyramid = RightPyramid(base=2, slant_height=4)\n",
    ">>> pyramid.area()\n",
    "20.0\n",
    ">>> pyramid.area_2()\n",
    "20.0"
   ]
  },
  {
   "cell_type": "markdown",
   "id": "a66e23af",
   "metadata": {},
   "source": [
    "It works! You’ve used `super()` to successfully navigate a complicated class hierarchy while using both inheritance and composition to create new classes with minimal reimplementation."
   ]
  },
  {
   "cell_type": "markdown",
   "id": "d02b747d",
   "metadata": {},
   "source": [
    "<a class=\"anchor\" id=\"multiple_inheritance_alternatives\"></a>\n",
    "\n",
    "### Multiple Inheritance Alternatives"
   ]
  },
  {
   "cell_type": "markdown",
   "id": "bc23b8fb",
   "metadata": {},
   "source": [
    "As you can see, multiple inheritance can be useful but also lead to very complicated situations and code that is hard to read. It’s also rare to have objects that neatly inherit everything from more than multiple other objects. "
   ]
  },
  {
   "cell_type": "markdown",
   "id": "1c9ef65d",
   "metadata": {},
   "source": [
    "If you see yourself beginning to use multiple inheritance and a complicated class hierarchy, it’s worth asking yourself if you can achieve code that is cleaner and easier to understand by using **composition** instead of inheritance. Since this article is focused on inheritance, I won’t go into too much detail on composition and how to wield it in Python."
   ]
  },
  {
   "cell_type": "markdown",
   "id": "e87ff0d0",
   "metadata": {},
   "source": [
    "There’s another technique that can help you get around the complexity of multiple inheritance while still providing many of the benefits. This technique is in the form of a specialized, simple class called a **mixin**. "
   ]
  },
  {
   "cell_type": "markdown",
   "id": "36ec8524",
   "metadata": {},
   "source": [
    "A mixin works as a kind of inheritance, but instead of defining an “is-a” relationship it may be more accurate to say that it defines an “includes-a” relationship. With a mix-in you can write a behavior that can be directly included in any number of other classes."
   ]
  },
  {
   "cell_type": "markdown",
   "id": "ecb29db2",
   "metadata": {},
   "source": [
    "Below, you will see a short example using `VolumeMixin` to give specific functionality to our 3D objects—in this case, a volume calculation:"
   ]
  },
  {
   "cell_type": "code",
   "execution_count": null,
   "id": "468a0bed",
   "metadata": {},
   "outputs": [],
   "source": [
    "class Rectangle:\n",
    "    def __init__(self, length, width):\n",
    "        self.length = length\n",
    "        self.width = width\n",
    "\n",
    "    def area(self):\n",
    "        return self.length * self.width\n",
    "\n",
    "class Square(Rectangle):\n",
    "    def __init__(self, length):\n",
    "        super().__init__(length, length)\n",
    "\n",
    "class VolumeMixin:\n",
    "    def volume(self):\n",
    "        return self.area() * self.height\n",
    "\n",
    "class Cube(VolumeMixin, Square):\n",
    "    def __init__(self, length):\n",
    "        super().__init__(length)\n",
    "        self.height = length\n",
    "\n",
    "    def face_area(self):\n",
    "        return super().area()\n",
    "\n",
    "    def surface_area(self):\n",
    "        return super().area() * 6"
   ]
  },
  {
   "cell_type": "markdown",
   "id": "7f95ee26",
   "metadata": {},
   "source": [
    "In this example, the code was reworked to include a mixin called `VolumeMixin`. The mixin is then used by `Cube` and gives `Cube` the ability to calculate its volume, which is shown below:"
   ]
  },
  {
   "cell_type": "code",
   "execution_count": null,
   "id": "ff0e32b5",
   "metadata": {},
   "outputs": [],
   "source": [
    ">>> cube = Cube(2)\n",
    ">>> cube.surface_area()\n",
    "24\n",
    ">>> cube.volume()\n",
    "8"
   ]
  },
  {
   "cell_type": "markdown",
   "id": "d457d539",
   "metadata": {},
   "source": [
    "This mixin can be used the same way in any other class that has an area defined for it and for which the formula `area * height` returns the correct volume."
   ]
  },
  {
   "cell_type": "markdown",
   "id": "c224ef91",
   "metadata": {},
   "source": [
    "<a class=\"anchor\" id=\"a_`super()`_recap\"></a>\n",
    "\n",
    "## A `super()` Recap"
   ]
  },
  {
   "cell_type": "markdown",
   "id": "e354a38f",
   "metadata": {},
   "source": [
    "In this tutorial, you learned how to supercharge your classes with `super()`. Your journey started with a review of single inheritance and then showed how to call superclass methods easily with `super()`. "
   ]
  },
  {
   "cell_type": "markdown",
   "id": "937a6e53",
   "metadata": {},
   "source": [
    "You then learned how multiple inheritance works in Python, and techniques to combine `super()` with multiple inheritance. You also learned about how Python resolves method calls using the method resolution order (MRO), as well as how to inspect and modify the MRO to ensure appropriate methods are called at appropriate times. "
   ]
  },
  {
   "cell_type": "markdown",
   "id": "71279a47",
   "metadata": {},
   "source": [
    "For more information about object-oriented programming in Python and using `super()`, check out these resources:"
   ]
  },
  {
   "cell_type": "markdown",
   "id": "98eb4479",
   "metadata": {},
   "source": [
    "- [Official `super()` documentation](https://docs.python.org/3/library/functions.html#super)\n",
    "- [Python’s `super()` Considered Super by Raymond Hettinger](https://rhettinger.wordpress.com/2011/05/26/super-considered-super/)\n",
    "- [Object-Oriented Programming in Python 3](https://realpython.com/python3-object-oriented-programming/)\n"
   ]
  }
 ],
 "metadata": {
  "kernelspec": {
   "display_name": "Python 3 (ipykernel)",
   "language": "python",
   "name": "python3"
  },
  "language_info": {
   "codemirror_mode": {
    "name": "ipython",
    "version": 3
   },
   "file_extension": ".py",
   "mimetype": "text/x-python",
   "name": "python",
   "nbconvert_exporter": "python",
   "pygments_lexer": "ipython3",
   "version": "3.7.12"
  }
 },
 "nbformat": 4,
 "nbformat_minor": 5
}
