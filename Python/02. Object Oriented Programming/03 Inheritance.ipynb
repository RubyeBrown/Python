{
 "cells": [
  {
   "cell_type": "markdown",
   "metadata": {},
   "source": [
    "<img src=\"../../images/banners/python-oop.png\" width=\"600\"/>"
   ]
  },
  {
   "cell_type": "markdown",
   "metadata": {},
   "source": [
    "# <img src=\"../../images/logos/python.png\" width=\"23\"/> Object Oriented Programming (Part  3: Inheritance) \n"
   ]
  },
  {
   "cell_type": "markdown",
   "metadata": {},
   "source": [
    "## <img src=\"../../images/logos/toc.png\" width=\"20\"/> Table of Contents \n",
    "* [Analogy](#analogy)\n",
    "* [Inheritance in Python](#inheritance_in_python)\n",
    "* [An Overview of Python’s `super()` Function](#an_overview_of_python’s_`super()`_function)\n",
    "* [`super()` in Single Inheritance]\n",
    "    * [Single Inheritance](#single_inheritance)\n",
    "    * [What is `super()`?](#what_is_`super()`?)\n",
    "    * [Multi-Level Inheritance](#multi-level_inheritance)\n",
    "    * [Hierarchical Inheritance](#hierarchical_inheritance)\n",
    "    * [`issubclass()` & `isinstance()`](#`issubclass()`_&_`isinstance()`)\n",
    "* [Check Your Understanding](#check_your_understanding)\n",
    "* [Conclusion](conclusion)\n",
    "\n",
    "---"
   ]
  },
  {
   "cell_type": "markdown",
   "metadata": {},
   "source": [
    "**Inheritance** models what is called a **relationship**. This means that when you have a **Derived** or **Child** class that inherits from a **Base** or **Parent** class, you created a relationship where **Derived** or **Child** is a specialized version of **Base** or **Parent**, meaning one class takes on the attributes and methods of another."
   ]
  },
  {
   "cell_type": "markdown",
   "metadata": {},
   "source": [
    "Child classes can override or extend the attributes and methods of parent classes. In other words, child classes inherit all of the parent’s attributes and methods but can also specify attributes and methods that are unique to themselves."
   ]
  },
  {
   "cell_type": "markdown",
   "metadata": {},
   "source": [
    "**Note:** In an inheritance relationship:\n",
    "\n",
    "- Classes that inherit from another are called derived classes, subclasses, or subtypes.\n",
    "- Classes from which other classes are derived are called base classes or super classes.\n",
    "- A derived class is said to derive, inherit, or extend a base class."
   ]
  },
  {
   "cell_type": "markdown",
   "metadata": {},
   "source": [
    "<a class=\"anchor\" id=\"analogy\"></a>\n",
    "## Analogy"
   ]
  },
  {
   "cell_type": "markdown",
   "metadata": {},
   "source": [
    "Although the analogy isn’t perfect, you can think of object inheritance sort of like genetic inheritance."
   ]
  },
  {
   "cell_type": "markdown",
   "metadata": {},
   "source": [
    "You may have inherited your hair color from your mother. It’s an attribute you were born with. Let’s say you decide to color your hair purple. Assuming your mother doesn’t have purple hair, you’ve just **overridden** the hair color attribute that you inherited from your mom."
   ]
  },
  {
   "cell_type": "markdown",
   "metadata": {},
   "source": [
    "You also inherit, in a sense, your language from your parents. If your parents speak English, then you’ll also speak English. Now imagine you decide to learn a second language, like German. In this case you’ve **extended** your attributes because you’ve added an attribute that your parents don’t have."
   ]
  },
  {
   "cell_type": "markdown",
   "metadata": {},
   "source": [
    "<a class=\"anchor\" id=\"inheritance_in_python\"></a>\n",
    "## Inheritance in Python"
   ]
  },
  {
   "cell_type": "markdown",
   "metadata": {},
   "source": [
    "Inheritance is a required feature of every object oriented programming language. This means that Python supports inheritance, and as you’ll see later, it’s one of the few languages that supports multiple inheritance."
   ]
  },
  {
   "cell_type": "markdown",
   "metadata": {},
   "source": [
    "> **Note:** We do not cover multiple inheritance as it has its own problems, read [here](https://arstechnica.com/information-technology/2014/08/why-is-multiple-inheritance-so-abhorred/#:~:text=Allowing%20multiple%20inheritance%20makes%20the,done%2C%20stable%2C%20and%20adopted.). Use multiple inheritance only if you have to."
   ]
  },
  {
   "cell_type": "markdown",
   "metadata": {},
   "source": [
    "<img src=\"./images/inheritance-types.svg\" width=\"500\"/>"
   ]
  },
  {
   "cell_type": "markdown",
   "metadata": {},
   "source": [
    "<a class=\"anchor\" id=\"an_overview_of_python’s_`super()`_function\"></a>\n",
    "\n",
    "## An Overview of Python’s `super()` Function"
   ]
  },
  {
   "cell_type": "markdown",
   "metadata": {},
   "source": [
    "While Python isn’t purely an object-oriented language, it’s flexible enough and powerful enough to allow you to build your applications using the object-oriented paradigm. One of the ways in which Python achieves this is by supporting **inheritance**, which it does with `super()`."
   ]
  },
  {
   "cell_type": "markdown",
   "metadata": {},
   "source": [
    "`super()` alone returns a temporary object of the superclass that then allows you to call that superclass’s methods. "
   ]
  },
  {
   "cell_type": "markdown",
   "metadata": {},
   "source": [
    "Why would you want to do any of this? While the possibilities are limited by your imagination, a common use case is building classes that extend the functionality of previously built classes. "
   ]
  },
  {
   "cell_type": "markdown",
   "metadata": {},
   "source": [
    "Calling the previously built methods with `super()` saves you from needing to rewrite those methods in your subclass, and allows you to swap out superclasses with minimal code changes. "
   ]
  },
  {
   "cell_type": "markdown",
   "metadata": {},
   "source": [
    "<a class=\"anchor\" id=\"single_inheritance\"></a>\n",
    "### Single Inheritance"
   ]
  },
  {
   "cell_type": "markdown",
   "metadata": {},
   "source": [
    "<img src=\"./images/rectangle-square.svg\" width=\"150\"/>"
   ]
  },
  {
   "cell_type": "markdown",
   "metadata": {},
   "source": [
    "It’s easier to understand these concepts when looking at code, so let’s write classes describing some shapes:"
   ]
  },
  {
   "cell_type": "code",
   "execution_count": 1,
   "metadata": {},
   "outputs": [],
   "source": [
    "class Rectangle:\n",
    "    def __init__(self, length, width):\n",
    "        self.length = length\n",
    "        self.width = width\n",
    "\n",
    "    def area(self):\n",
    "        return self.length * self.width\n",
    "\n",
    "    def perimeter(self):\n",
    "        return 2 * self.length + 2 * self.width\n",
    "\n",
    "class Square:\n",
    "    def __init__(self, length):\n",
    "        self.length = length\n",
    "\n",
    "    def area(self):\n",
    "        return self.length * self.length\n",
    "\n",
    "    def perimeter(self):\n",
    "        return 4 * self.length"
   ]
  },
  {
   "cell_type": "markdown",
   "metadata": {},
   "source": [
    "Here, there are two similar classes: `Rectangle` and `Square`."
   ]
  },
  {
   "cell_type": "markdown",
   "metadata": {},
   "source": [
    "You can use them as below:"
   ]
  },
  {
   "cell_type": "code",
   "execution_count": 2,
   "metadata": {},
   "outputs": [
    {
     "data": {
      "text/plain": [
       "16"
      ]
     },
     "execution_count": 2,
     "metadata": {},
     "output_type": "execute_result"
    }
   ],
   "source": [
    "square = Square(4)\n",
    "square.area()"
   ]
  },
  {
   "cell_type": "code",
   "execution_count": 3,
   "metadata": {},
   "outputs": [
    {
     "data": {
      "text/plain": [
       "8"
      ]
     },
     "execution_count": 3,
     "metadata": {},
     "output_type": "execute_result"
    }
   ],
   "source": [
    "rectangle = Rectangle(2,4)\n",
    "rectangle.area()"
   ]
  },
  {
   "cell_type": "markdown",
   "metadata": {},
   "source": [
    "In this example, you have two shapes that are related to each other: a square is a special kind of rectangle. The code, however, doesn’t reflect that relationship and thus has code that is essentially repeated. "
   ]
  },
  {
   "cell_type": "markdown",
   "metadata": {},
   "source": [
    "By using inheritance, you can reduce the amount of code you write while simultaneously reflecting the real-world relationship between rectangles and squares:"
   ]
  },
  {
   "cell_type": "code",
   "execution_count": 4,
   "metadata": {},
   "outputs": [],
   "source": [
    "class Rectangle:\n",
    "    def __init__(self, length, width):\n",
    "        self.length = length\n",
    "        self.width = width\n",
    "\n",
    "    def area(self):\n",
    "        return self.length * self.width\n",
    "\n",
    "    def perimeter(self):\n",
    "        return 2 * self.length + 2 * self.width\n",
    "\n",
    "# Here we declare that the Square class inherits from the Rectangle class\n",
    "class Square(Rectangle):\n",
    "    def __init__(self, length):\n",
    "        super().__init__(length, length)"
   ]
  },
  {
   "cell_type": "markdown",
   "metadata": {},
   "source": [
    "Here, you’ve used `super()` to call the `__init__()` of the `Rectangle` class, allowing you to use it in the `Square` class without repeating code. Below, the core functionality remains after making changes:"
   ]
  },
  {
   "cell_type": "code",
   "execution_count": 5,
   "metadata": {},
   "outputs": [
    {
     "data": {
      "text/plain": [
       "16"
      ]
     },
     "execution_count": 5,
     "metadata": {},
     "output_type": "execute_result"
    }
   ],
   "source": [
    "square = Square(4)\n",
    "square.area()"
   ]
  },
  {
   "cell_type": "markdown",
   "metadata": {},
   "source": [
    "In this example, `Rectangle` is the superclass, and `Square` is the subclass. "
   ]
  },
  {
   "cell_type": "markdown",
   "metadata": {},
   "source": [
    "Because the `Square` and `Rectangle` `.__init__()` methods are so similar, you can simply call the superclass’s `.__init__()` method (`Rectangle.__init__()`) from that of `Square` by using `super()`. This sets the `.length` and `.width` attributes even though you just had to supply a single `length` parameter to the `Square` constructor."
   ]
  },
  {
   "cell_type": "markdown",
   "metadata": {},
   "source": [
    "When you run this, even though your `Square` class doesn’t explicitly implement it, the call to `.area()` will use the `.area()` method in the superclass and print `16`. The `Square` class **inherited** `.area()` from the `Rectangle` class."
   ]
  },
  {
   "cell_type": "markdown",
   "metadata": {},
   "source": [
    "> **Note:** aside from the zero argument form, `super()` is not limited to use inside methods. The two argument form specifies the arguments exactly and makes the appropriate references. The zero argument form only works inside a class definition, as the compiler fills in the necessary details to correctly retrieve the class being defined, as well as accessing the current instance for ordinary methods. Also, `super()` does much more than just search the parent class for a method or an attribute. It traverses the entire class hierarchy for a matching method or attribute. If you aren’t careful, `super()` can have surprising results."
   ]
  },
  {
   "cell_type": "markdown",
   "metadata": {},
   "source": [
    "> **Note:** In the above examples, the **class hierarchy** is very straightforward. The Rectangle class has a single parent class, Shape. In real-world examples, the class hierarchy can get quite complicated."
   ]
  },
  {
   "cell_type": "markdown",
   "metadata": {
    "tags": []
   },
   "source": [
    "<a class=\"anchor\" id=\"multi-level_inheritance\"></a>\n",
    "### Multi-Level Inheritance"
   ]
  },
  {
   "cell_type": "markdown",
   "metadata": {},
   "source": [
    "<img src=\"./images/rectangle-square-cube.svg\" width=\"150\"/>"
   ]
  },
  {
   "cell_type": "markdown",
   "metadata": {},
   "source": [
    "In the example below, you will create a class `Cube` that inherits from `Square` and extends the functionality of `.area()` (inherited from the `Rectangle` class through `Square`) to calculate the surface area and volume of a `Cube` instance:"
   ]
  },
  {
   "cell_type": "code",
   "execution_count": 8,
   "metadata": {},
   "outputs": [],
   "source": [
    "class Square(Rectangle):\n",
    "    def __init__(self, length):\n",
    "        super().__init__(length, length)\n",
    "\n",
    "class Cube(Square):\n",
    "    def surface_area(self):\n",
    "        face_area = super().area()\n",
    "        return face_area * 6\n",
    "\n",
    "    def volume(self):\n",
    "        face_area = super().area()\n",
    "        return face_area * self.length"
   ]
  },
  {
   "cell_type": "markdown",
   "metadata": {},
   "source": [
    "Now that you’ve built the classes, let’s look at the surface area and volume of a cube with a side length of `3`:"
   ]
  },
  {
   "cell_type": "code",
   "execution_count": 9,
   "metadata": {},
   "outputs": [
    {
     "data": {
      "text/plain": [
       "54"
      ]
     },
     "execution_count": 9,
     "metadata": {},
     "output_type": "execute_result"
    }
   ],
   "source": [
    "cube = Cube(3)\n",
    "cube.surface_area()"
   ]
  },
  {
   "cell_type": "code",
   "execution_count": 10,
   "metadata": {},
   "outputs": [
    {
     "data": {
      "text/plain": [
       "27"
      ]
     },
     "execution_count": 10,
     "metadata": {},
     "output_type": "execute_result"
    }
   ],
   "source": [
    "cube.volume()"
   ]
  },
  {
   "cell_type": "markdown",
   "metadata": {},
   "source": [
    "Here you have implemented two methods for the `Cube` class: `.surface_area()` and `.volume()`. Both of these calculations rely on calculating the area of a single face, so rather than reimplementing the area calculation, you use `super()` to extend the area calculation. "
   ]
  },
  {
   "cell_type": "markdown",
   "metadata": {},
   "source": [
    "Also notice that the `Cube` class definition does not have an `.__init__()`. Because `Cube` inherits from `Square` and `.__init__()` doesn’t really do anything differently for `Cube` than it already does for `Square`, you can skip defining it, and the `.__init__()` of the superclass (`Square`) will be called automatically. "
   ]
  },
  {
   "cell_type": "markdown",
   "metadata": {},
   "source": [
    "`super()` returns a delegate object to a parent class, so you call the method you want directly on it: `super().area()`. "
   ]
  },
  {
   "cell_type": "markdown",
   "metadata": {},
   "source": [
    "Not only does this save us from having to rewrite the area calculations, but it also allows us to change the internal `.area()` logic in a single location. This is especially in handy when you have a number of subclasses inheriting from one superclass."
   ]
  },
  {
   "cell_type": "code",
   "execution_count": null,
   "metadata": {},
   "outputs": [],
   "source": []
  },
  {
   "cell_type": "code",
   "execution_count": null,
   "metadata": {},
   "outputs": [],
   "source": []
  },
  {
   "cell_type": "code",
   "execution_count": null,
   "metadata": {},
   "outputs": [],
   "source": []
  },
  {
   "cell_type": "code",
   "execution_count": null,
   "metadata": {},
   "outputs": [],
   "source": []
  },
  {
   "cell_type": "markdown",
   "metadata": {},
   "source": [
    "You now have overriden `__str__` and extended `area` and `perimeter` functionalities.\n",
    "\n",
    "Let's create `Square` class inheriting from `Rectangle`."
   ]
  },
  {
   "cell_type": "code",
   "execution_count": 7,
   "metadata": {},
   "outputs": [],
   "source": [
    "class Square(Rectangle):\n",
    "    def __init__(self, width, color='Black'):\n",
    "        super().__init__(width, width, color)"
   ]
  },
  {
   "cell_type": "code",
   "execution_count": 8,
   "metadata": {},
   "outputs": [
    {
     "name": "stdout",
     "output_type": "stream",
     "text": [
      "Shape constructor called!\n",
      "Rectangle constructor called!\n",
      "Rectangle is Red\n"
     ]
    }
   ],
   "source": [
    "s = Square(5, \"Red\")\n",
    "print(s)"
   ]
  },
  {
   "cell_type": "markdown",
   "metadata": {},
   "source": [
    "<a class=\"anchor\" id=\"hierarchical_inheritance\"></a>\n",
    "### Hierarchical Inheritance"
   ]
  },
  {
   "cell_type": "markdown",
   "metadata": {},
   "source": [
    "You can also create another class (for example `Circle`) inheriting from `Shape`.\n",
    "\n",
    "Now `Shape` class has two child classes (`Circle` and `Rectangle`)"
   ]
  },
  {
   "cell_type": "markdown",
   "metadata": {},
   "source": [
    "<img src=\"./images/shape-rectangle-square-circle.svg\" width=\"200\"/>"
   ]
  },
  {
   "cell_type": "code",
   "execution_count": 9,
   "metadata": {},
   "outputs": [],
   "source": [
    "class Circle(Shape):\n",
    "    \"\"\"\n",
    "    Circle class.\n",
    "    \"\"\"\n",
    "    def __init__(self, r, color='Black'):\n",
    "        super().__init__(color)\n",
    "        self.r = r\n",
    "        \n",
    "    def area(self,):\n",
    "        return 3.14 * self.r * self.r\n",
    "    \n",
    "    def perimeter(self,):\n",
    "        return 2 * 3.14 * self.r"
   ]
  },
  {
   "cell_type": "code",
   "execution_count": 10,
   "metadata": {},
   "outputs": [
    {
     "name": "stdout",
     "output_type": "stream",
     "text": [
      "Shape constructor called!\n",
      "Shape is Black\n"
     ]
    }
   ],
   "source": [
    "c = Circle(3)\n",
    "print(c)"
   ]
  },
  {
   "cell_type": "code",
   "execution_count": 11,
   "metadata": {},
   "outputs": [
    {
     "data": {
      "text/plain": [
       "(28.259999999999998, 18.84)"
      ]
     },
     "execution_count": 11,
     "metadata": {},
     "output_type": "execute_result"
    }
   ],
   "source": [
    "c.area(), c.perimeter()"
   ]
  },
  {
   "cell_type": "markdown",
   "metadata": {},
   "source": [
    "<a class=\"anchor\" id=\"`issubclass()`_&_`isinstance()`\"></a>\n",
    "### `issubclass()` & `isinstance()`\n",
    "\n",
    "Two built-in functions `isinstance()` and `issubclass()` are used to check inheritances. Function `isinstance()` returns True if the object is an instance of the class or other classes derived from it. Each and every class in Python inherits from the base class object.\n",
    "\n",
    "```python\n",
    "issubclass(derived, base)       # returns True\n",
    "issubclass(base, drived)        # returns False\n",
    "\n",
    "isinstance(object, derived)     # returns True\n",
    "isinstance(object, base)        # returns True\n",
    "```"
   ]
  },
  {
   "cell_type": "code",
   "execution_count": 12,
   "metadata": {},
   "outputs": [
    {
     "data": {
      "text/plain": [
       "(True, True)"
      ]
     },
     "execution_count": 12,
     "metadata": {},
     "output_type": "execute_result"
    }
   ],
   "source": [
    "isinstance(s, Square), isinstance(s, Rectangle)"
   ]
  },
  {
   "cell_type": "code",
   "execution_count": 13,
   "metadata": {},
   "outputs": [
    {
     "data": {
      "text/plain": [
       "(True, False)"
      ]
     },
     "execution_count": 13,
     "metadata": {},
     "output_type": "execute_result"
    }
   ],
   "source": [
    "isinstance(r, Rectangle), isinstance(r, Square)"
   ]
  },
  {
   "cell_type": "code",
   "execution_count": 14,
   "metadata": {},
   "outputs": [
    {
     "data": {
      "text/plain": [
       "(True, True, False)"
      ]
     },
     "execution_count": 14,
     "metadata": {},
     "output_type": "execute_result"
    }
   ],
   "source": [
    "issubclass(Square, Rectangle), issubclass(Rectangle, Shape), issubclass(Rectangle, Square)"
   ]
  },
  {
   "cell_type": "markdown",
   "metadata": {},
   "source": [
    "**Note:** Every class that you create in Python will implicitly derive from `object` (except `exceptions`)\n",
    "\n",
    "You can define any class inheriting from `object`:\n",
    "\n",
    "```python\n",
    "class myclass(object):\n",
    "    pass\n",
    "```"
   ]
  },
  {
   "cell_type": "code",
   "execution_count": 15,
   "metadata": {},
   "outputs": [
    {
     "data": {
      "text/plain": [
       "True"
      ]
     },
     "execution_count": 15,
     "metadata": {},
     "output_type": "execute_result"
    }
   ],
   "source": [
    "issubclass(Rectangle, object)"
   ]
  },
  {
   "cell_type": "code",
   "execution_count": 16,
   "metadata": {},
   "outputs": [
    {
     "data": {
      "text/plain": [
       "True"
      ]
     },
     "execution_count": 16,
     "metadata": {},
     "output_type": "execute_result"
    }
   ],
   "source": [
    "issubclass(Shape, object)"
   ]
  },
  {
   "cell_type": "markdown",
   "metadata": {},
   "source": [
    "<a class=\"anchor\" id=\"check_your_understanding\"></a>\n",
    "## Check Your Understanding"
   ]
  },
  {
   "cell_type": "markdown",
   "metadata": {},
   "source": [
    "> **Exercise:** Class Inheritance\n",
    "Create a `GoldenRetriever` class that inherits from the `Dog` class. Give the sound argument of `GoldenRetriever.speak()` a default value of `\"Bark\"`. Use the following code for your parent `Dog` class:\n",
    "> \n",
    "> ```python\n",
    "> class Dog:\n",
    ">     species = \"Canis familiaris\"\n",
    "> \n",
    ">     def __init__(self, name, age):\n",
    ">         self.name = name\n",
    ">         self.age = age\n",
    "> \n",
    ">     def __str__(self):\n",
    ">         return f\"{self.name} is {self.age} years old\"\n",
    "> \n",
    ">     def speak(self, sound):\n",
    ">         return f\"{self.name} says {sound}\"\n",
    "> ```"
   ]
  },
  {
   "cell_type": "markdown",
   "metadata": {},
   "source": [
    "> **Solution:**\n",
    "> Create a class called `GoldenRetriever` that inherits from the `Dog` class and overrides the `.speak()` method:\n",
    "> ```python\n",
    "class GoldenRetriever(Dog):\n",
    "    def speak(self, sound=\"Bark\"):\n",
    "        return super().speak(sound)\n",
    "> ```\n",
    "> The `sound` parameter in `GoldenRetriever.speak()` is given a default value of `\"Bark\"`. Then `super()` is used to call the parent class’s `.speak()` method with the same argument passed to sound as the `GoldenRetriever` class’s `.speak()` method."
   ]
  },
  {
   "cell_type": "markdown",
   "metadata": {},
   "source": [
    "> **Read More**: You can extend your knowledge by reading about MRO and multiple inheritance. Method Resolution Order (MRO) is the order in which methods should be inherited in the presence of multiple inheritance."
   ]
  },
  {
   "cell_type": "markdown",
   "metadata": {},
   "source": [
    "<a class=\"anchor\" id=\"conclusion\"></a>\n",
    "## Conclusion \n"
   ]
  },
  {
   "cell_type": "markdown",
   "metadata": {},
   "source": [
    "In the previous sections, you learned about object-oriented programming (OOP) in Python. Most modern programming languages, such as Java, C#, and C++, follow OOP principles, so the knowledge you gained here will be applicable no matter where your programming career takes you."
   ]
  },
  {
   "cell_type": "markdown",
   "metadata": {},
   "source": [
    "In this section, you learned how to:\n",
    "\n",
    "- Define a **class**, which is a sort of blueprint for an object\n",
    "- Instantiate an **object** from a class\n",
    "- Use **attributes** and **methods** to define the **properties** and **behaviors** of an object\n",
    "- Use **inheritance** to create **child classes** from a **parent class**\n",
    "- Reference a method on a parent class using `super()`\n",
    "- Check if an object inherits from another class using `isinstance()`"
   ]
  }
 ],
 "metadata": {
  "kernelspec": {
   "display_name": "Python 3",
   "language": "python",
   "name": "python3"
  },
  "language_info": {
   "codemirror_mode": {
    "name": "ipython",
    "version": 3
   },
   "file_extension": ".py",
   "mimetype": "text/x-python",
   "name": "python",
   "nbconvert_exporter": "python",
   "pygments_lexer": "ipython3",
   "version": "3.8.11"
  }
 },
 "nbformat": 4,
 "nbformat_minor": 4
}
