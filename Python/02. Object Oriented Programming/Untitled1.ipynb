{
 "cells": [
  {
   "cell_type": "code",
   "execution_count": 92,
   "id": "b8aaa258-0581-4012-92ac-661d93b5cc0c",
   "metadata": {},
   "outputs": [],
   "source": [
    "class Trainer:\n",
    "    def __init__(\n",
    "        self,\n",
    "        last_visited_city: str,\n",
    "        weight_capacity: float,\n",
    "        is_on_trip: bool\n",
    "    ):\n",
    "        self.last_visited_city = last_visited_city\n",
    "        self.weight_capacity = weight_capacity\n",
    "        self.is_on_trip = is_on_trip"
   ]
  },
  {
   "cell_type": "code",
   "execution_count": null,
   "id": "bab9c624-8925-42e5-86da-c8a6e1da328b",
   "metadata": {},
   "outputs": [],
   "source": [
    "t = Trainer()"
   ]
  }
 ],
 "metadata": {
  "kernelspec": {
   "display_name": "Python 3",
   "language": "python",
   "name": "python3"
  },
  "language_info": {
   "codemirror_mode": {
    "name": "ipython",
    "version": 3
   },
   "file_extension": ".py",
   "mimetype": "text/x-python",
   "name": "python",
   "nbconvert_exporter": "python",
   "pygments_lexer": "ipython3",
   "version": "3.8.11"
  }
 },
 "nbformat": 4,
 "nbformat_minor": 5
}
