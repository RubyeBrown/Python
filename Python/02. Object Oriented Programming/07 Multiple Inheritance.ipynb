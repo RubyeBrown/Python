{
 "cells": [
  {
   "cell_type": "markdown",
   "id": "d41c18ae-17b0-42c7-8cf3-2a96d28d01ff",
   "metadata": {},
   "source": [
    "<img src=\"../../images/banners/python-oop.png\" width=\"600\"/>"
   ]
  },
  {
   "cell_type": "markdown",
   "id": "f64de2bc-b59d-456c-869c-247e1337c2d7",
   "metadata": {},
   "source": [
    "# <img src=\"../../images/logos/python.png\" width=\"23\"/> Multiple Inheritance\n"
   ]
  },
  {
   "cell_type": "markdown",
   "id": "7ac3dbfc-c49b-4df5-ba80-c3f2aa003e10",
   "metadata": {},
   "source": [
    "## <img src=\"../../images/logos/toc.png\" width=\"20\"/> Table of Contents \n",
    "\n",
    "\n",
    "---"
   ]
  },
  {
   "cell_type": "markdown",
   "id": "85dfba99-db85-4cf3-9017-e333dc7103f8",
   "metadata": {},
   "source": [
    "Now that you’ve worked through an overview and some examples of `super()` and single inheritance, you will be introduced to an overview and some examples that will demonstrate how multiple inheritance works and how `super()` enables that functionality. "
   ]
  },
  {
   "cell_type": "markdown",
   "id": "5b9c423d-49a0-4878-8812-d09ea617a26a",
   "metadata": {},
   "source": [
    "## Multiple Inheritance using `super()`"
   ]
  },
  {
   "cell_type": "markdown",
   "id": "b2212964-bf61-4eb0-87dc-0c5c162e5bae",
   "metadata": {},
   "source": [
    "There is another use case in which `super()` really shines, and this one isn’t as common as the single inheritance scenario. In addition to single inheritance, Python supports multiple inheritance, in which a subclass can inherit from multiple superclasses that don’t necessarily inherit from each other (also known as **sibling classes**). "
   ]
  },
  {
   "cell_type": "markdown",
   "id": "0f7ad44b-1fa3-41b2-9db7-9ef1cb6794db",
   "metadata": {},
   "source": [
    "The image below shows a very simple multiple inheritance scenario, where one class inherits from two unrelated (sibling) superclasses:"
   ]
  },
  {
   "cell_type": "markdown",
   "id": "9b4eacee-98bc-4754-b68a-ece5a076cee7",
   "metadata": {},
   "source": [
    "<img src=\"./images/multiple-inheritance.svg\" width=\"300\"/>"
   ]
  },
  {
   "cell_type": "markdown",
   "id": "f3b982b0-a447-4338-900f-d35666870d5e",
   "metadata": {},
   "source": [
    "To better illustrate multiple inheritance in action, here is some code for you to try out, showing how you can build a right pyramid (a pyramid with a square base) out of a `Triangle` and a `Square`:"
   ]
  },
  {
   "cell_type": "markdown",
   "id": "9fdbed28-3ffe-4019-9439-5cae6851d9cc",
   "metadata": {},
   "source": [
    "<img src=\"./images/square-triangle-pyramid.svg\" width=\"200\"/>"
   ]
  },
  {
   "cell_type": "code",
   "execution_count": 3,
   "id": "68c82fa5-f072-4116-af65-1ab32f5599b3",
   "metadata": {},
   "outputs": [],
   "source": [
    "# Here we declare that the Square class inherits from the Rectangle class\n",
    "class Square:\n",
    "    def __init__(self, length):\n",
    "        self.length = length\n",
    "\n",
    "    def area(self):\n",
    "        return self.length ** 2\n",
    "\n",
    "    def perimeter(self):\n",
    "        return 4 * self.length"
   ]
  },
  {
   "cell_type": "code",
   "execution_count": 4,
   "id": "9e2901b0",
   "metadata": {},
   "outputs": [],
   "source": [
    "class Triangle:\n",
    "    def __init__(self, base, height):\n",
    "        self.base = base\n",
    "        self.height = height\n",
    "\n",
    "    def area(self):\n",
    "        return 0.5 * self.base * self.height\n",
    "\n",
    "class RightPyramid(Triangle, Square):\n",
    "    def __init__(self, base, slant_height):\n",
    "        self.base = base\n",
    "        self.slant_height = slant_height\n",
    "\n",
    "    def area(self):\n",
    "        base_area = super().area()\n",
    "        perimeter = super().perimeter()\n",
    "        return 0.5 * perimeter * self.slant_height + base_area"
   ]
  },
  {
   "cell_type": "markdown",
   "id": "76922b1f-3bd8-4554-b89e-8f1dbebbb2db",
   "metadata": {},
   "source": [
    "This example declares a `Triangle` class and a `RightPyramid` class that inherits from both `Square` and `Triangle`. "
   ]
  },
  {
   "cell_type": "markdown",
   "id": "c3c9b51a-b051-456e-b4c4-ca857c3a63b4",
   "metadata": {},
   "source": [
    "You’ll see another `.area()` method that uses `super()` just like in single inheritance, with the aim of it reaching the `.perimeter()` and `.area()` methods defined all the way up in the `Rectangle` class. "
   ]
  },
  {
   "cell_type": "markdown",
   "id": "85e954b4-555e-4742-8241-5abd35920e8f",
   "metadata": {},
   "source": [
    "The problem, though, is that both superclasses (`Triangle` and `Square`) define a `.area()`. Take a second and think about what might happen when you call `.area()` on `RightPyramid`, and then try calling it like below:"
   ]
  },
  {
   "cell_type": "code",
   "execution_count": 5,
   "id": "dc565984-d1d6-40bd-847c-a30f3aa39a2d",
   "metadata": {},
   "outputs": [
    {
     "ename": "AttributeError",
     "evalue": "'RightPyramid' object has no attribute 'height'",
     "output_type": "error",
     "traceback": [
      "\u001b[0;31m---------------------------------------------------------------------------\u001b[0m",
      "\u001b[0;31mAttributeError\u001b[0m                            Traceback (most recent call last)",
      "\u001b[0;32m<ipython-input-5-bc97e396aa36>\u001b[0m in \u001b[0;36m<module>\u001b[0;34m\u001b[0m\n\u001b[1;32m      1\u001b[0m \u001b[0mpyramid\u001b[0m \u001b[0;34m=\u001b[0m \u001b[0mRightPyramid\u001b[0m\u001b[0;34m(\u001b[0m\u001b[0;36m2\u001b[0m\u001b[0;34m,\u001b[0m \u001b[0;36m4\u001b[0m\u001b[0;34m)\u001b[0m\u001b[0;34m\u001b[0m\u001b[0;34m\u001b[0m\u001b[0m\n\u001b[0;32m----> 2\u001b[0;31m \u001b[0mpyramid\u001b[0m\u001b[0;34m.\u001b[0m\u001b[0marea\u001b[0m\u001b[0;34m(\u001b[0m\u001b[0;34m)\u001b[0m\u001b[0;34m\u001b[0m\u001b[0;34m\u001b[0m\u001b[0m\n\u001b[0m",
      "\u001b[0;32m<ipython-input-4-75be8304e95a>\u001b[0m in \u001b[0;36marea\u001b[0;34m(self)\u001b[0m\n\u001b[1;32m     13\u001b[0m \u001b[0;34m\u001b[0m\u001b[0m\n\u001b[1;32m     14\u001b[0m     \u001b[0;32mdef\u001b[0m \u001b[0marea\u001b[0m\u001b[0;34m(\u001b[0m\u001b[0mself\u001b[0m\u001b[0;34m)\u001b[0m\u001b[0;34m:\u001b[0m\u001b[0;34m\u001b[0m\u001b[0;34m\u001b[0m\u001b[0m\n\u001b[0;32m---> 15\u001b[0;31m         \u001b[0mbase_area\u001b[0m \u001b[0;34m=\u001b[0m \u001b[0msuper\u001b[0m\u001b[0;34m(\u001b[0m\u001b[0;34m)\u001b[0m\u001b[0;34m.\u001b[0m\u001b[0marea\u001b[0m\u001b[0;34m(\u001b[0m\u001b[0;34m)\u001b[0m\u001b[0;34m\u001b[0m\u001b[0;34m\u001b[0m\u001b[0m\n\u001b[0m\u001b[1;32m     16\u001b[0m         \u001b[0mperimeter\u001b[0m \u001b[0;34m=\u001b[0m \u001b[0msuper\u001b[0m\u001b[0;34m(\u001b[0m\u001b[0;34m)\u001b[0m\u001b[0;34m.\u001b[0m\u001b[0mperimeter\u001b[0m\u001b[0;34m(\u001b[0m\u001b[0;34m)\u001b[0m\u001b[0;34m\u001b[0m\u001b[0;34m\u001b[0m\u001b[0m\n\u001b[1;32m     17\u001b[0m         \u001b[0;32mreturn\u001b[0m \u001b[0;36m0.5\u001b[0m \u001b[0;34m*\u001b[0m \u001b[0mperimeter\u001b[0m \u001b[0;34m*\u001b[0m \u001b[0mself\u001b[0m\u001b[0;34m.\u001b[0m\u001b[0mslant_height\u001b[0m \u001b[0;34m+\u001b[0m \u001b[0mbase_area\u001b[0m\u001b[0;34m\u001b[0m\u001b[0;34m\u001b[0m\u001b[0m\n",
      "\u001b[0;32m<ipython-input-4-75be8304e95a>\u001b[0m in \u001b[0;36marea\u001b[0;34m(self)\u001b[0m\n\u001b[1;32m      5\u001b[0m \u001b[0;34m\u001b[0m\u001b[0m\n\u001b[1;32m      6\u001b[0m     \u001b[0;32mdef\u001b[0m \u001b[0marea\u001b[0m\u001b[0;34m(\u001b[0m\u001b[0mself\u001b[0m\u001b[0;34m)\u001b[0m\u001b[0;34m:\u001b[0m\u001b[0;34m\u001b[0m\u001b[0;34m\u001b[0m\u001b[0m\n\u001b[0;32m----> 7\u001b[0;31m         \u001b[0;32mreturn\u001b[0m \u001b[0;36m0.5\u001b[0m \u001b[0;34m*\u001b[0m \u001b[0mself\u001b[0m\u001b[0;34m.\u001b[0m\u001b[0mbase\u001b[0m \u001b[0;34m*\u001b[0m \u001b[0mself\u001b[0m\u001b[0;34m.\u001b[0m\u001b[0mheight\u001b[0m\u001b[0;34m\u001b[0m\u001b[0;34m\u001b[0m\u001b[0m\n\u001b[0m\u001b[1;32m      8\u001b[0m \u001b[0;34m\u001b[0m\u001b[0m\n\u001b[1;32m      9\u001b[0m \u001b[0;32mclass\u001b[0m \u001b[0mRightPyramid\u001b[0m\u001b[0;34m(\u001b[0m\u001b[0mTriangle\u001b[0m\u001b[0;34m,\u001b[0m \u001b[0mSquare\u001b[0m\u001b[0;34m)\u001b[0m\u001b[0;34m:\u001b[0m\u001b[0;34m\u001b[0m\u001b[0;34m\u001b[0m\u001b[0m\n",
      "\u001b[0;31mAttributeError\u001b[0m: 'RightPyramid' object has no attribute 'height'"
     ]
    }
   ],
   "source": [
    "pyramid = RightPyramid(2, 4)\n",
    "pyramid.area()"
   ]
  },
  {
   "cell_type": "markdown",
   "id": "42bda8e1-4713-4158-a1f7-bb83c4a28c80",
   "metadata": {},
   "source": [
    "Did you guess that Python will try to call `Triangle.area()`? This is because of something called the **method resolution order**."
   ]
  },
  {
   "cell_type": "markdown",
   "id": "64346b32-a369-4db9-b2ca-78eb8004ebd7",
   "metadata": {},
   "source": [
    "<a class=\"anchor\" id=\"method_resolution_order\"></a>\n",
    "\n",
    "### Method Resolution Order"
   ]
  },
  {
   "cell_type": "markdown",
   "id": "ae8668d5-c666-45b8-beb1-e293c51958ed",
   "metadata": {},
   "source": [
    "The method resolution order (or **MRO**) tells Python how to search for inherited methods. This comes in handy when you’re using `super()` because the MRO tells you exactly where Python will look for a method you’re calling with `super()` and in what order."
   ]
  },
  {
   "cell_type": "markdown",
   "id": "8f46d5de-8a6e-4f9e-b8dc-caf4b7051338",
   "metadata": {},
   "source": [
    "Every class has an `.__mro__` attribute that allows us to inspect the order, so let’s do that:"
   ]
  },
  {
   "cell_type": "code",
   "execution_count": 6,
   "id": "d920c482-6e05-4345-9828-1f95f5fa96b4",
   "metadata": {},
   "outputs": [
    {
     "data": {
      "text/plain": [
       "(__main__.RightPyramid, __main__.Triangle, __main__.Square, object)"
      ]
     },
     "execution_count": 6,
     "metadata": {},
     "output_type": "execute_result"
    }
   ],
   "source": [
    "RightPyramid.__mro__"
   ]
  },
  {
   "cell_type": "markdown",
   "id": "b7b085fe-ab40-4f5d-b007-5b4e49966e22",
   "metadata": {},
   "source": [
    "This tells us that methods will be searched first in `Rightpyramid`, then in `Triangle`, then in `Square`, then `Rectangle`, and then, if nothing is found, in `object`, from which all classes originate. "
   ]
  },
  {
   "cell_type": "markdown",
   "id": "4fb1939e-e0bd-4930-83b7-5e79363f69e9",
   "metadata": {},
   "source": [
    "The problem here is that the interpreter is searching for `.area()` in `Triangle` before `Square` and `Rectangle`, and upon finding `.area()` in `Triangle`, Python calls it instead of the one you want. Because `Triangle.area()` expects there to be a `.height` and a `.base` attribute, Python throws an `AttributeError`. "
   ]
  },
  {
   "cell_type": "markdown",
   "id": "ea524e33-d92a-4740-8aa8-4259c8b6c91c",
   "metadata": {},
   "source": [
    "Luckily, you have some control over how the MRO is constructed. Just by changing the signature of the `RightPyramid` class, you can search in the order you want, and the methods will resolve correctly:"
   ]
  },
  {
   "cell_type": "code",
   "execution_count": null,
   "id": "5d3c0bd9-05a4-4227-b7de-d75bb0fd3c1c",
   "metadata": {},
   "outputs": [],
   "source": []
  }
 ],
 "metadata": {
  "kernelspec": {
   "display_name": "Python 3",
   "language": "python",
   "name": "python3"
  },
  "language_info": {
   "codemirror_mode": {
    "name": "ipython",
    "version": 3
   },
   "file_extension": ".py",
   "mimetype": "text/x-python",
   "name": "python",
   "nbconvert_exporter": "python",
   "pygments_lexer": "ipython3",
   "version": "3.8.11"
  }
 },
 "nbformat": 4,
 "nbformat_minor": 5
}
