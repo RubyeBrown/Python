{
 "cells": [
  {
   "cell_type": "markdown",
   "id": "ee0e1c3b-b0c0-45fc-aad2-67adfa59195e",
   "metadata": {},
   "source": [
    "<img src=\"../../images/banners/python-oop.png\" width=\"600\"/>"
   ]
  },
  {
   "cell_type": "markdown",
   "id": "02db1190-3602-4779-bbbd-43f85d7e59b4",
   "metadata": {},
   "source": [
    "# <img src=\"../../images/logos/python.png\" width=\"23\"/> Abstract Base Classes"
   ]
  },
  {
   "cell_type": "markdown",
   "id": "a87e76ef-5626-48ff-886d-ade6a18c9b8d",
   "metadata": {
    "tags": []
   },
   "source": [
    "## <img src=\"../../images/logos/toc.png\" width=\"20\"/> Table of Contents \n",
    "\n",
    "---"
   ]
  },
  {
   "cell_type": "markdown",
   "id": "17c02c4e-c228-4da1-8fb2-5b3dd5ea18e2",
   "metadata": {},
   "source": [
    "The `Shape` class in the example above is what is called an `abstract` base class. Abstract base classes exist to be inherited, but never instantiated. Python provides the abc module to define abstract base classes."
   ]
  },
  {
   "cell_type": "markdown",
   "id": "f18df6cf-d2d6-4d12-a5ad-31d891952b04",
   "metadata": {},
   "source": [
    "You can use leading underscores in your class name to communicate that objects of that class should not be created. Underscores provide a friendly way to prevent misuse of your code, but they don’t prevent eager users from creating instances of that class."
   ]
  },
  {
   "cell_type": "markdown",
   "id": "e33689ee-098a-4c29-8cf1-2c3fdc261bab",
   "metadata": {},
   "source": [
    "The `abc` module in the Python standard library provides functionality to prevent creating objects from abstract base classes. You can modify the implementation of the Shape class to ensure that it can’t be instantiated:"
   ]
  },
  {
   "cell_type": "code",
   "execution_count": 19,
   "id": "48ef5a04-0192-464e-babc-f091182666e3",
   "metadata": {},
   "outputs": [],
   "source": [
    "from abc import ABC, abstractmethod\n",
    "\n",
    "class Shape(ABC):\n",
    "    \"\"\"\n",
    "    Abstract shape class.\n",
    "    \"\"\"\n",
    "    def __init__(self, color='Black'):\n",
    "        print(\"Shape constructor called!\")\n",
    "        self.color = color\n",
    "        \n",
    "    def __str__(self, ):\n",
    "        return f\"Shape is {self.color}\"\n",
    "    \n",
    "    @abstractmethod\n",
    "    def area(self):\n",
    "        pass\n",
    "    \n",
    "    @abstractmethod\n",
    "    def perimeter(self):\n",
    "        pass"
   ]
  },
  {
   "cell_type": "markdown",
   "id": "5da22447-932c-4172-932a-77441ae6eb15",
   "metadata": {},
   "source": [
    "You derive `Shape` from `ABC`, making it an abstract base class. Then, you decorate the `.area()` and `.perimeter()` methods with the `@abstractmethod` decorator (Decorators will be discussed later in another section)."
   ]
  },
  {
   "cell_type": "markdown",
   "id": "123174ba-e3d2-4fbf-84a9-0564cccec36a",
   "metadata": {},
   "source": [
    "This change has two nice side-effects:\n",
    "\n",
    "1. You’re telling users of the module that objects of type `Shape` can’t be created.\n",
    "2. You’re telling other developers working on the other modules that if they derive from `Shape`, then they must override the `.area()` and `.perimeter()` abstract methods."
   ]
  },
  {
   "cell_type": "markdown",
   "id": "4df89261-8aaa-4c51-9f9d-c7f73e616c73",
   "metadata": {},
   "source": [
    "You can see that objects of type `Shape` can’t be created:"
   ]
  },
  {
   "cell_type": "code",
   "execution_count": 20,
   "id": "482ea010-ae44-4042-b7b9-444be06f831a",
   "metadata": {},
   "outputs": [
    {
     "ename": "TypeError",
     "evalue": "Can't instantiate abstract class Shape with abstract methods area, perimeter",
     "output_type": "error",
     "traceback": [
      "\u001b[0;31m---------------------------------------------------------------------------\u001b[0m",
      "\u001b[0;31mTypeError\u001b[0m                                 Traceback (most recent call last)",
      "\u001b[0;32m<ipython-input-20-b28988c7e22b>\u001b[0m in \u001b[0;36m<module>\u001b[0;34m\u001b[0m\n\u001b[1;32m      1\u001b[0m \u001b[0;31m# Raises a TypeError\u001b[0m\u001b[0;34m\u001b[0m\u001b[0;34m\u001b[0m\u001b[0;34m\u001b[0m\u001b[0m\n\u001b[0;32m----> 2\u001b[0;31m \u001b[0mshape\u001b[0m \u001b[0;34m=\u001b[0m \u001b[0mShape\u001b[0m\u001b[0;34m(\u001b[0m\u001b[0;34m)\u001b[0m\u001b[0;34m\u001b[0m\u001b[0;34m\u001b[0m\u001b[0m\n\u001b[0m",
      "\u001b[0;31mTypeError\u001b[0m: Can't instantiate abstract class Shape with abstract methods area, perimeter"
     ]
    }
   ],
   "source": [
    "# Raises a TypeError\n",
    "shape = Shape()"
   ]
  },
  {
   "cell_type": "markdown",
   "id": "67bb47ad-79a1-4d33-99fe-e14f5f0b12c6",
   "metadata": {},
   "source": [
    "The output shows that the class cannot be instantiated because it contains `.area()` and `.perimeter` abstract methods. Derived classes must override the method to allow creating objects of their type."
   ]
  }
 ],
 "metadata": {
  "kernelspec": {
   "display_name": "Python 3",
   "language": "python",
   "name": "python3"
  },
  "language_info": {
   "codemirror_mode": {
    "name": "ipython",
    "version": 3
   },
   "file_extension": ".py",
   "mimetype": "text/x-python",
   "name": "python",
   "nbconvert_exporter": "python",
   "pygments_lexer": "ipython3",
   "version": "3.8.11"
  }
 },
 "nbformat": 4,
 "nbformat_minor": 5
}
