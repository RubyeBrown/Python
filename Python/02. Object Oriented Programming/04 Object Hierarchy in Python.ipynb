{
 "cells": [
  {
   "cell_type": "markdown",
   "id": "38fe8175-0215-495a-b49f-97556ba85e9a",
   "metadata": {},
   "source": [
    "<img src=\"../../images/banners/python-oop.png\" width=\"600\"/>"
   ]
  },
  {
   "cell_type": "markdown",
   "id": "676d1ad1-5e29-40ba-9e79-ba4b922fc681",
   "metadata": {},
   "source": [
    "# <img src=\"../../images/logos/python.png\" width=\"23\"/> Object Hierarchy in Python"
   ]
  },
  {
   "cell_type": "markdown",
   "id": "23b46a34-eb8e-4550-8843-4c7758e69005",
   "metadata": {
    "tags": []
   },
   "source": [
    "## <img src=\"../../images/logos/toc.png\" width=\"20\"/> Table of Contents \n",
    "* [Python 2 Classes](#python-2-classes)\n",
    "* [Python 3 Classes](#python-3-classes)\n",
    "    * [Inheritance from `object`](#inheritance-from-object)\n",
    "\n",
    "---"
   ]
  },
  {
   "cell_type": "markdown",
   "id": "ea0d7a6f-04a1-4daf-83f7-d8719e886eee",
   "metadata": {},
   "source": [
    "<a class=\"anchor\" id=\"python-2-classes\"></a>\n",
    "## Python 2 Classes"
   ]
  },
  {
   "cell_type": "markdown",
   "id": "5436ce0d-d6cf-469c-933e-c9a5616c5688",
   "metadata": {},
   "source": [
    "In Python 2.x (from 2.2 onwards) there's two styles of classes depending on the presence or absence of object as a base-class:\n",
    "\n",
    "- \"classic\" style classes: they don't have object as a base class:\n",
    "```python\n",
    ">>> class ClassicSpam:      # no base class\n",
    "...     pass\n",
    ">>> ClassicSpam.__bases__\n",
    "()\n",
    "```\n",
    "\n",
    "- \"new\" style classes: they have, directly or indirectly (e.g inherit from a built-in type), object as a base class:\n",
    "```python\n",
    ">>> class NewSpam(object):           # directly inherit from object\n",
    "...    pass\n",
    ">>> NewSpam.__bases__\n",
    "(<type 'object'>,)\n",
    ">>> class IntSpam(int):              # indirectly inherit from object...\n",
    "...    pass\n",
    ">>> IntSpam.__bases__\n",
    "(<type 'int'>,) \n",
    ">>> IntSpam.__bases__[0].__bases__   # ... because int inherits from object  \n",
    "(<type 'object'>,)\n",
    "```"
   ]
  },
  {
   "cell_type": "markdown",
   "id": "4298dcf6-51af-464c-b879-d721f0909bc9",
   "metadata": {},
   "source": [
    "Without a doubt, when writing a class you'll always want to go for new-style classes. The perks of doing so are numerous, to list some of them:\n",
    "\n",
    "- Support for descriptors. Specifically, the following constructs are made possible with descriptors:\n",
    "- `classmethod`: A method that receives the class as an implicit argument instead of the instance.\n",
    "- `staticmethod`: A method that does not receive the implicit argument self as a first argument.\n",
    "- properties with property: Create functions for managing the getting, setting and deleting of an attribute.\n",
    "- `__slots__`: Saves memory consumptions of a class and also results in faster attribute access. Of course, it does impose limitations.\n",
    "- The `__new__` static method: lets you customize how new class instances are created.\n",
    "- Method resolution order (MRO): in what order the base classes of a class will be searched when trying to resolve which method to call.\n",
    "- Related to MRO, super calls. Also see, super() considered super."
   ]
  },
  {
   "cell_type": "markdown",
   "id": "056c4209-62cf-44a9-baa8-2bbf8eff92a3",
   "metadata": {},
   "source": [
    "If you don't inherit from object, forget these. A more exhaustive description of the previous bullet points along with other perks of \"new\" style classes can be found here."
   ]
  },
  {
   "cell_type": "markdown",
   "id": "aa3cc90d-16dc-45d0-8500-0581925fd7f4",
   "metadata": {},
   "source": [
    "One of the downsides of new-style classes is that the class itself is more memory demanding. Unless you're creating many class objects, though, I doubt this would be an issue and it's a negative sinking in a sea of positives."
   ]
  },
  {
   "cell_type": "markdown",
   "id": "3bf05a4e-2657-422f-8452-3454a80fe45d",
   "metadata": {},
   "source": [
    "<a class=\"anchor\" id=\"python-3-classes\"></a>\n",
    "## Python 3 Classes"
   ]
  },
  {
   "cell_type": "markdown",
   "id": "eb0ddfa2-8802-46dc-a0b7-fcd1fb898b09",
   "metadata": {},
   "source": [
    "In Python 3, things are simplified. Only new-style classes exist (referred to plainly as classes) so, the only difference in adding object is requiring you to type in 8 more characters. This:"
   ]
  },
  {
   "cell_type": "code",
   "execution_count": 1,
   "id": "562c58f7-0d4e-4616-b9a8-e336d2f1d60e",
   "metadata": {},
   "outputs": [],
   "source": [
    "class ClassicSpam:\n",
    "    pass"
   ]
  },
  {
   "cell_type": "markdown",
   "id": "18a0f4ff-bb86-4c18-951c-31d6741feaaf",
   "metadata": {},
   "source": [
    "is completely equivalent (apart from their name :-) to this:"
   ]
  },
  {
   "cell_type": "code",
   "execution_count": 2,
   "id": "e5a4b392-1b01-43c2-9e0d-2467d077fdc1",
   "metadata": {},
   "outputs": [],
   "source": [
    "class NewSpam(object):\n",
    "     pass"
   ]
  },
  {
   "cell_type": "markdown",
   "id": "34acecbd-047e-4e37-9bf2-abfa6221daf0",
   "metadata": {},
   "source": [
    "and to this:"
   ]
  },
  {
   "cell_type": "code",
   "execution_count": 3,
   "id": "c6e41fc0-b094-4b7f-918e-ff262f3fa792",
   "metadata": {},
   "outputs": [],
   "source": [
    "class Spam():\n",
    "    pass"
   ]
  },
  {
   "cell_type": "markdown",
   "id": "2888220b-ad03-4951-be35-b11df16ee9e8",
   "metadata": {},
   "source": [
    "All have object in their __bases__."
   ]
  },
  {
   "cell_type": "code",
   "execution_count": 4,
   "id": "c88da708-f466-4399-bc7f-7988a983cdb5",
   "metadata": {},
   "outputs": [
    {
     "data": {
      "text/plain": [
       "[True, True, True]"
      ]
     },
     "execution_count": 4,
     "metadata": {},
     "output_type": "execute_result"
    }
   ],
   "source": [
    "[object in cls.__bases__ for cls in {Spam, NewSpam, ClassicSpam}]"
   ]
  },
  {
   "cell_type": "markdown",
   "id": "b7cd16a3-eb14-4fe0-a154-3d92cd6da122",
   "metadata": {},
   "source": [
    "<a class=\"anchor\" id=\"inheritance-from-object\"></a>\n",
    "### Inheritance from `object`"
   ]
  },
  {
   "cell_type": "markdown",
   "id": "e915e737-19bd-4e00-ab47-bb7f956245dc",
   "metadata": {},
   "source": [
    "Every class that you create in Python will implicitly derive from object. The exception to this rule are classes used to indicate errors by raising an exception."
   ]
  },
  {
   "cell_type": "markdown",
   "id": "2cd2348b-3c88-475e-b6ed-aa27259fc5b4",
   "metadata": {},
   "source": [
    "<img src=\"./images/inheritance-tree.svg\" width=\"800\"/>"
   ]
  },
  {
   "cell_type": "code",
   "execution_count": 5,
   "id": "f3ba188e-a623-4f63-8d49-db36806edda1",
   "metadata": {},
   "outputs": [
    {
     "ename": "TypeError",
     "evalue": "exceptions must derive from BaseException",
     "output_type": "error",
     "traceback": [
      "\u001b[0;31m---------------------------------------------------------------------------\u001b[0m",
      "\u001b[0;31mTypeError\u001b[0m                                 Traceback (most recent call last)",
      "\u001b[0;32m<ipython-input-5-b305b5e7114c>\u001b[0m in \u001b[0;36m<module>\u001b[0;34m\u001b[0m\n\u001b[1;32m      3\u001b[0m \u001b[0;34m\u001b[0m\u001b[0m\n\u001b[1;32m      4\u001b[0m \u001b[0;31m# Raises a TypeError cause exceptions must derive from BaseException\u001b[0m\u001b[0;34m\u001b[0m\u001b[0;34m\u001b[0m\u001b[0;34m\u001b[0m\u001b[0m\n\u001b[0;32m----> 5\u001b[0;31m \u001b[0;32mraise\u001b[0m \u001b[0mMyError\u001b[0m\u001b[0;34m(\u001b[0m\u001b[0;34m)\u001b[0m\u001b[0;34m\u001b[0m\u001b[0;34m\u001b[0m\u001b[0m\n\u001b[0m",
      "\u001b[0;31mTypeError\u001b[0m: exceptions must derive from BaseException"
     ]
    }
   ],
   "source": [
    "class MyError:\n",
    "    pass\n",
    "\n",
    "# Raises a TypeError cause exceptions must derive from BaseException\n",
    "raise MyError()"
   ]
  },
  {
   "cell_type": "markdown",
   "id": "99247669-47c8-4352-9079-a27eac05aff8",
   "metadata": {},
   "source": [
    "You created a new class to indicate a type of error. Then you tried to use it to raise an exception. An exception is raised but the output states that the exception is of type `TypeError` not `MyError` and that all exceptions must derive from `BaseException`."
   ]
  },
  {
   "cell_type": "markdown",
   "id": "700e400d-d29c-4db2-8e14-22deef4b88d1",
   "metadata": {},
   "source": [
    "`BaseException` is a base class provided for all error types. To create a new error type, you must derive your class from `BaseExceptio`n or one of its derived classes. The convention in Python is to derive your custom error types from Exception, which in turn derives from `BaseException`."
   ]
  },
  {
   "cell_type": "markdown",
   "id": "78f6f91f-c91b-4bc1-862d-a7b77439419a",
   "metadata": {},
   "source": [
    "<img src=\"./images/exceptions.svg\" width=\"300\"/>"
   ]
  },
  {
   "cell_type": "code",
   "execution_count": 6,
   "id": "5b39759e-1098-4345-b61a-36f750e01cd1",
   "metadata": {},
   "outputs": [
    {
     "ename": "MyError",
     "evalue": "",
     "output_type": "error",
     "traceback": [
      "\u001b[0;31m---------------------------------------------------------------------------\u001b[0m",
      "\u001b[0;31mMyError\u001b[0m                                   Traceback (most recent call last)",
      "\u001b[0;32m<ipython-input-6-86614ab2e5a0>\u001b[0m in \u001b[0;36m<module>\u001b[0;34m\u001b[0m\n\u001b[1;32m      3\u001b[0m \u001b[0;34m\u001b[0m\u001b[0m\n\u001b[1;32m      4\u001b[0m \u001b[0;31m# Raises a MyError correctly\u001b[0m\u001b[0;34m\u001b[0m\u001b[0;34m\u001b[0m\u001b[0;34m\u001b[0m\u001b[0m\n\u001b[0;32m----> 5\u001b[0;31m \u001b[0;32mraise\u001b[0m \u001b[0mMyError\u001b[0m\u001b[0;34m(\u001b[0m\u001b[0;34m)\u001b[0m\u001b[0;34m\u001b[0m\u001b[0;34m\u001b[0m\u001b[0m\n\u001b[0m",
      "\u001b[0;31mMyError\u001b[0m: "
     ]
    }
   ],
   "source": [
    "class MyError(Exception):\n",
    "    pass\n",
    "\n",
    "# Raises a MyError correctly\n",
    "raise MyError()"
   ]
  },
  {
   "cell_type": "code",
   "execution_count": 7,
   "id": "6d9eab2a-9b9e-431e-abbc-221d1482574f",
   "metadata": {},
   "outputs": [
    {
     "data": {
      "text/plain": [
       "False"
      ]
     },
     "execution_count": 7,
     "metadata": {},
     "output_type": "execute_result"
    }
   ],
   "source": [
    "object in MyError.__bases__"
   ]
  },
  {
   "cell_type": "markdown",
   "id": "1d07efa0-4bf5-4a6d-a269-9ced98b5c350",
   "metadata": {},
   "source": [
    "As you can see, when you raise `MyError`, the output correctly states the type of error raised"
   ]
  },
  {
   "cell_type": "markdown",
   "id": "66e43f49-f980-4ee0-a567-243bc6784a5d",
   "metadata": {},
   "source": [
    "> Exceptions will be covered in detailes later in advanced section."
   ]
  }
 ],
 "metadata": {
  "kernelspec": {
   "display_name": "Python 3",
   "language": "python",
   "name": "python3"
  },
  "language_info": {
   "codemirror_mode": {
    "name": "ipython",
    "version": 3
   },
   "file_extension": ".py",
   "mimetype": "text/x-python",
   "name": "python",
   "nbconvert_exporter": "python",
   "pygments_lexer": "ipython3",
   "version": "3.8.11"
  }
 },
 "nbformat": 4,
 "nbformat_minor": 5
}
